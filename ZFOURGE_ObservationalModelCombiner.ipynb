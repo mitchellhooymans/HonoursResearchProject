{
 "cells": [
  {
   "cell_type": "code",
   "execution_count": 4,
   "metadata": {},
   "outputs": [],
   "source": [
    "# We would like to investigate the effects of the different filters.\n",
    "# Read in the dataframe\n",
    "\n",
    "import matplotlib.pyplot as plt\n",
    "import astropy.units as u\n",
    "import numpy as np\n",
    "import pandas as pd\n",
    "import os\n",
    "from astLib import astSED\n",
    "import astropy.io.fits as fits\n",
    "from carf import * # custom module for functions relating to the project\n",
    "import matplotlib.path as mpath\n"
   ]
  },
  {
   "cell_type": "code",
   "execution_count": 5,
   "metadata": {},
   "outputs": [],
   "source": [
    "\n",
    "\n",
    "\n",
    "master_df = []\n",
    "\n",
    "#field = 'COSMOS'\n",
    "agn_model_name = 'Type2AGN'\n",
    "\n",
    "fields = ['COSMOS', 'UDS', 'CDFS']\n",
    "\n",
    "for field in fields:\n",
    "    composite_choice = f'{field}_obsevational_composites_fluxes{agn_model_name}'\n",
    "    composite_fluxes = pd.read_csv(f'outputs\\composite_seds\\{composite_choice}.csv', index_col=0)   \n",
    "    \n",
    "    # Add field name in a new column\n",
    "    composite_fluxes['field'] = field\n",
    "    \n",
    "    # Add to the master dataframe\n",
    "    master_df.append(composite_fluxes)\n",
    "    \n",
    "master_df = pd.concat(master_df)\n",
    "master_df.reset_index(drop=True, inplace=True)\n",
    "\n"
   ]
  },
  {
   "cell_type": "code",
   "execution_count": 6,
   "metadata": {},
   "outputs": [],
   "source": [
    "# Save the master dataframe\n",
    "master_df.to_csv(f'outputs/composite_seds/ZFOURGE_obsevational_composites_fluxes{agn_model_name}.csv')"
   ]
  },
  {
   "cell_type": "code",
   "execution_count": null,
   "metadata": {},
   "outputs": [],
   "source": []
  }
 ],
 "metadata": {
  "kernelspec": {
   "display_name": "base",
   "language": "python",
   "name": "python3"
  },
  "language_info": {
   "codemirror_mode": {
    "name": "ipython",
    "version": 3
   },
   "file_extension": ".py",
   "mimetype": "text/x-python",
   "name": "python",
   "nbconvert_exporter": "python",
   "pygments_lexer": "ipython3",
   "version": "3.8.8"
  }
 },
 "nbformat": 4,
 "nbformat_minor": 2
}
