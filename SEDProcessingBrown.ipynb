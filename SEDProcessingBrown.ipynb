{
 "cells": [
  {
   "cell_type": "markdown",
   "metadata": {},
   "source": [
    "# Investigation of Brown's Rest-frame Templates\n",
    "this code is intended to be used to explore brown's rest-frame templates. These templates are intended to be used only to experiment with the process of combining seds and are not intended to be used to represent the final sed data as we need to potentially construct the correct galaxy seds by using correct SFHs,etc. In addition to the templates used correspond to the right galaxy type. This can be found in Brown's 2014 paper. \n",
    "\n",
    "Rest frame galaxies used in this code will be plotted on UVJ colour space as an experiment and will then be combined with AGN to form composites which will then again be plotted on UVJ colour space"
   ]
  },
  {
   "cell_type": "code",
   "execution_count": 98,
   "metadata": {},
   "outputs": [],
   "source": [
    "# Import all of the relevant libraries\n",
    "import matplotlib.pyplot as plt\n",
    "import astropy.units as u\n",
    "import numpy as np\n",
    "import pandas as pd\n",
    "import os\n",
    "from astLib import astSED\n",
    "import astropy.io.fits as fits\n"
   ]
  },
  {
   "cell_type": "code",
   "execution_count": 99,
   "metadata": {},
   "outputs": [],
   "source": [
    "# In this code we are aiming to investigate brown's templates, to do this we devise a code to read \n",
    "# in all of the templates into the workspace and then plot them to see what they look like.\n",
    "# as they are galaxies names we will have to read in the names in the folder as an array\n",
    "# then we will have to read in the fits files and plot them.\n",
    "\n",
    "# First we will read in the names of the files in the folder\n",
    "# This is done using the os library\n",
    "\n",
    "\n",
    "# Create a function to read in brown's templates\n",
    "\n",
    "\n",
    "def read_brown_templates():\n",
    "    df_list = []\n",
    "    objname_list = []\n",
    "    folder_path = os.path.join('datasets', 'Templates','Brown', '2014','Rest')\n",
    "    files_in_folder = os.listdir(folder_path)\n",
    "    for file in files_in_folder:\n",
    "        # Find filepath\n",
    "        objname = file.split('_restframe.dat')[0]\n",
    "        filepath = os.path.join(folder_path, file)\n",
    "        data = np.loadtxt(filepath)\n",
    "        #convert to dataframe \n",
    "        df = pd.DataFrame(data)\n",
    "        df_list.append(df)\n",
    "        objname_list.append(objname)\n",
    "    return df_list, objname_list\n",
    "\n",
    "\n",
    "# Create a function to plot a random galaxy from brown's templates, must be used with \n",
    "def plot_galaxy(df_list, objname_list, n, israndom = True):\n",
    "    if israndom:\n",
    "        n =np.random.randint(0, 128)\n",
    "    \n",
    "\n",
    "    # plot a single galaxy\n",
    "    df = df_list[n]\n",
    "    obj_name = objname_list[n]\n",
    "    \n",
    "    plt.figure(figsize=(10, 5))\n",
    "    plt.plot(df[0], df[2])\n",
    "    plt.xlabel('Wavelength ($\\mu$m)')\n",
    "    plt.ylabel('Flux (erg/s/cm^2/Angstrom)')\n",
    "    plt.title('Galaxy Template of: '+str(obj_name))\n",
    "    plt.grid()\n",
    "    plt.xscale('log')\n",
    "    plt.show()\n",
    "    \n",
    "    \n",
    "\n",
    "    "
   ]
  },
  {
   "cell_type": "code",
   "execution_count": 100,
   "metadata": {},
   "outputs": [],
   "source": [
    "df_list, objname_list = read_brown_templates()\n"
   ]
  },
  {
   "cell_type": "code",
   "execution_count": 101,
   "metadata": {},
   "outputs": [
    {
     "data": {
      "image/png": "[encoded data removed]",
      "text/plain": [
       "<Figure size 720x360 with 1 Axes>"
      ]
     },
     "metadata": {
      "needs_background": "light"
     },
     "output_type": "display_data"
    }
   ],
   "source": [
    "# Run the plotting code 20 times\n",
    "#for i in range(20):\n",
    "#    plot_random_galaxy(df_list, objname_list)\n",
    "    \n",
    "    \n",
    " # plot the galaxies\n",
    " \n",
    "plot_galaxy(df_list, objname_list, 2, israndom = False)\n",
    "    \n",
    "\n"
   ]
  }
 ],
 "metadata": {
  "kernelspec": {
   "display_name": "base",
   "language": "python",
   "name": "python3"
  },
  "language_info": {
   "codemirror_mode": {
    "name": "ipython",
    "version": 3
   },
   "file_extension": ".py",
   "mimetype": "text/x-python",
   "name": "python",
   "nbconvert_exporter": "python",
   "pygments_lexer": "ipython3",
   "version": "3.8.8"
  }
 },
 "nbformat": 4,
 "nbformat_minor": 2
}
