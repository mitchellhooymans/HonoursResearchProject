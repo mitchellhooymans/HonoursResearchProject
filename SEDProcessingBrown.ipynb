{
 "cells": [
  {
   "cell_type": "markdown",
   "metadata": {},
   "source": [
    "# Investigation of Brown's Rest-frame Templates\n",
    "this code is intended to be used to explore brown's rest-frame templates. These templates are intended to be used only to experiment with the process of combining seds and are not intended to be used to represent the final sed data as we need to potentially construct the correct galaxy seds by using correct SFHs,etc. In addition to the templates used correspond to the right galaxy type. This can be found in Brown's 2014 paper. \n",
    "\n",
    "Rest frame galaxies used in this code will be plotted on UVJ colour space as an experiment and will then be combined with AGN to form composites which will then again be plotted on UVJ colour space"
   ]
  },
  {
   "cell_type": "code",
   "execution_count": 151,
   "metadata": {},
   "outputs": [],
   "source": [
    "# Import all of the relevant libraries\n",
    "import matplotlib.pyplot as plt\n",
    "import astropy.units as u\n",
    "import numpy as np\n",
    "import pandas as pd\n",
    "import os\n",
    "from astLib import astSED\n",
    "import astropy.io.fits as fits\n",
    "import carf as cf\n",
    "from carf import *\n"
   ]
  },
  {
   "cell_type": "code",
   "execution_count": null,
   "metadata": {},
   "outputs": [],
   "source": [
    "# In this code we are aiming to investigate brown's templates, to do this we devise a code to read \n",
    "# in all of the templates into the workspace and then plot them to see what they look like.\n",
    "# as they are galaxies names we will have to read in the names in the folder as an array\n",
    "# then we will have to read in the fits files and plot them.\n",
    "\n",
    "# First we will read in the names of the files in the folder\n",
    "# This is done using the os library\n",
    "\n",
    "\n",
    "# Create a function to read in brown's templates\n",
    "\n",
    "\n",
    "def read_brown_templates():\n",
    "    df_list = []\n",
    "    objname_list = []\n",
    "    folder_path = os.path.join('datasets', 'Templates','Brown', '2014','Rest')\n",
    "    files_in_folder = os.listdir(folder_path)\n",
    "    for file in files_in_folder:\n",
    "        # Find filepath\n",
    "        objname = file.split('_restframe.dat')[0]\n",
    "        filepath = os.path.join(folder_path, file)\n",
    "        data = np.loadtxt(filepath)\n",
    "        #convert to dataframe \n",
    "        df = pd.DataFrame(data)\n",
    "        \n",
    "        # our wavelength is in microns, convert to Angstroms\n",
    "        df[0] = df[0] * 10000 # microns 10^-6 -> Angstroms 10^-10 \n",
    "        \n",
    "        \n",
    "        df_list.append(df)\n",
    "        objname_list.append(objname)\n",
    "    return df_list, objname_list\n",
    "\n",
    "\n",
    "# Create a function to plot a random galaxy from brown's templates, must be used with \n",
    "def plot_galaxy(df_list, objname_list, n, israndom = True):\n",
    "    if israndom:\n",
    "        n =np.random.randint(0, 128)\n",
    "    \n",
    "\n",
    "    # plot a single galaxy\n",
    "    df = df_list[n]\n",
    "    obj_name = objname_list[n]\n",
    "    \n",
    "    plt.figure(figsize=(10, 5))\n",
    "    plt.plot(df[0], df[2])\n",
    "    plt.xlabel('Wavelength (Angstroms)')\n",
    "    plt.ylabel('Flux (erg/s/cm^2/Angstrom)')\n",
    "    plt.title('Galaxy Template of: '+str(obj_name))\n",
    "    plt.grid()\n",
    "    plt.xscale('log')\n",
    "    #plt.xlim([6500, 6750])\n",
    "    plt.show()\n",
    "    \n",
    "    \n",
    "\n",
    "    "
   ]
  },
  {
   "cell_type": "code",
   "execution_count": null,
   "metadata": {},
   "outputs": [],
   "source": [
    "df_list, objname_list = read_brown_templates()\n"
   ]
  },
  {
   "cell_type": "code",
   "execution_count": null,
   "metadata": {},
   "outputs": [],
   "source": [
    "# Run the plotting code 20 times\n",
    "num_plots = 127 # must be less than 128\n",
    "#for i in range(num_plots):\n",
    "    \n",
    "    #plot_galaxy(df_list, objname_list, i, israndom = True)\n",
    "    \n",
    "    \n",
    " # plot the galaxies\n",
    " \n",
    "\n",
    "\n",
    "\n"
   ]
  },
  {
   "cell_type": "markdown",
   "metadata": {},
   "source": [
    "# Convert each of the templates\n",
    "using the photometric filters (2Mass, Johnson) to determine the UVJ colours of these objects. We can then plot these colours on a UVJ diagram. This is similar to what was done with the previous brown templates, however these templates are given in rest frame colours from the start."
   ]
  },
  {
   "cell_type": "code",
   "execution_count": null,
   "metadata": {},
   "outputs": [],
   "source": [
    "# We begin by reading in the names of the passband filters. \n",
    "# Similarly we can also read in the passbands for the UVJ colours\n",
    "pb_U = os.path.join('datasets', 'Filters', 'Generic_Johnson.U.dat')\n",
    "pb_V = os.path.join('datasets', 'Filters', 'Generic_Johnson.V.dat')\n",
    "pb_J = os.path.join('datasets', 'Filters', '2MASS_2MASS.J.dat')\n",
    "\n",
    "# use the astSED library to read in the passbands, ultimaly we want to normalise the passbands, and use these to generate UVJ colours.\n",
    "pb_U = astSED.Passband(pb_U, normalise=False)\n",
    "pb_V = astSED.Passband(pb_V, normalise=False)\n",
    "pb_J = astSED.Passband(pb_J, normalise=False)"
   ]
  },
  {
   "cell_type": "code",
   "execution_count": null,
   "metadata": {},
   "outputs": [
    {
     "data": {
      "text/html": [
       "<div>\n",
       "<style scoped>\n",
       "    .dataframe tbody tr th:only-of-type {\n",
       "        vertical-align: middle;\n",
       "    }\n",
       "\n",
       "    .dataframe tbody tr th {\n",
       "        vertical-align: top;\n",
       "    }\n",
       "\n",
       "    .dataframe thead th {\n",
       "        text-align: right;\n",
       "    }\n",
       "</style>\n",
       "<table border=\"1\" class=\"dataframe\">\n",
       "  <thead>\n",
       "    <tr style=\"text-align: right;\">\n",
       "      <th></th>\n",
       "      <th>0</th>\n",
       "      <th>1</th>\n",
       "      <th>2</th>\n",
       "      <th>3</th>\n",
       "    </tr>\n",
       "  </thead>\n",
       "  <tbody>\n",
       "    <tr>\n",
       "      <th>0</th>\n",
       "      <td>102.01</td>\n",
       "      <td>6.782756e+11</td>\n",
       "      <td>1.625613e-07</td>\n",
       "      <td>0.0</td>\n",
       "    </tr>\n",
       "    <tr>\n",
       "      <th>1</th>\n",
       "      <td>103.91</td>\n",
       "      <td>9.235722e+11</td>\n",
       "      <td>2.133303e-07</td>\n",
       "      <td>0.0</td>\n",
       "    </tr>\n",
       "    <tr>\n",
       "      <th>2</th>\n",
       "      <td>106.08</td>\n",
       "      <td>1.280614e+12</td>\n",
       "      <td>2.838230e-07</td>\n",
       "      <td>0.0</td>\n",
       "    </tr>\n",
       "    <tr>\n",
       "      <th>3</th>\n",
       "      <td>108.06</td>\n",
       "      <td>1.804792e+12</td>\n",
       "      <td>3.854727e-07</td>\n",
       "      <td>0.0</td>\n",
       "    </tr>\n",
       "    <tr>\n",
       "      <th>4</th>\n",
       "      <td>110.06</td>\n",
       "      <td>2.827791e+12</td>\n",
       "      <td>5.822169e-07</td>\n",
       "      <td>0.0</td>\n",
       "    </tr>\n",
       "    <tr>\n",
       "      <th>...</th>\n",
       "      <td>...</td>\n",
       "      <td>...</td>\n",
       "      <td>...</td>\n",
       "      <td>...</td>\n",
       "    </tr>\n",
       "    <tr>\n",
       "      <th>2277</th>\n",
       "      <td>332163.75</td>\n",
       "      <td>2.604806e+24</td>\n",
       "      <td>5.887993e-02</td>\n",
       "      <td>3.0</td>\n",
       "    </tr>\n",
       "    <tr>\n",
       "      <th>2278</th>\n",
       "      <td>333944.03</td>\n",
       "      <td>3.497316e+24</td>\n",
       "      <td>7.821389e-02</td>\n",
       "      <td>3.0</td>\n",
       "    </tr>\n",
       "    <tr>\n",
       "      <th>2279</th>\n",
       "      <td>335725.44</td>\n",
       "      <td>3.498347e+24</td>\n",
       "      <td>7.740889e-02</td>\n",
       "      <td>3.0</td>\n",
       "    </tr>\n",
       "    <tr>\n",
       "      <th>2280</th>\n",
       "      <td>337507.72</td>\n",
       "      <td>2.625419e+24</td>\n",
       "      <td>5.748144e-02</td>\n",
       "      <td>3.0</td>\n",
       "    </tr>\n",
       "    <tr>\n",
       "      <th>2281</th>\n",
       "      <td>339291.19</td>\n",
       "      <td>2.644810e+24</td>\n",
       "      <td>5.729883e-02</td>\n",
       "      <td>3.0</td>\n",
       "    </tr>\n",
       "  </tbody>\n",
       "</table>\n",
       "<p>2282 rows × 4 columns</p>\n",
       "</div>"
      ],
      "text/plain": [
       "              0             1             2    3\n",
       "0        102.01  6.782756e+11  1.625613e-07  0.0\n",
       "1        103.91  9.235722e+11  2.133303e-07  0.0\n",
       "2        106.08  1.280614e+12  2.838230e-07  0.0\n",
       "3        108.06  1.804792e+12  3.854727e-07  0.0\n",
       "4        110.06  2.827791e+12  5.822169e-07  0.0\n",
       "...         ...           ...           ...  ...\n",
       "2277  332163.75  2.604806e+24  5.887993e-02  3.0\n",
       "2278  333944.03  3.497316e+24  7.821389e-02  3.0\n",
       "2279  335725.44  3.498347e+24  7.740889e-02  3.0\n",
       "2280  337507.72  2.625419e+24  5.748144e-02  3.0\n",
       "2281  339291.19  2.644810e+24  5.729883e-02  3.0\n",
       "\n",
       "[2282 rows x 4 columns]"
      ]
     },
     "execution_count": 116,
     "metadata": {},
     "output_type": "execute_result"
    }
   ],
   "source": [
    "# We now want to calculate the UVJ colours for the galaxies\n",
    "# recalling that our SEDs are in the df_list array\n",
    "# we will use the astSED library to calculate the UVJ colours\n",
    "df_list[0]"
   ]
  },
  {
   "cell_type": "code",
   "execution_count": null,
   "metadata": {},
   "outputs": [],
   "source": [
    "\n",
    "# We read in every SED in our list, converting each SED into the respective colours\n",
    "# we will first do this with colours and later construct a dataframe which calculates\n",
    "# the individual filter colours\n",
    "\n",
    "colour_list = []\n",
    "uv_list = []\n",
    "vj_list = []\n",
    "for n in range(num_plots):\n",
    "    \n",
    "    # use the wavelength and flux of the sed\n",
    "    wl = df_list[n][0] \n",
    "    fl = df_list[n][2]\n",
    "\n",
    "\n",
    "    # create an SED object containing the SED of the galaxy\n",
    "    # in addition to this use the relevant wavelength and flux\n",
    "    sed = astSED.SED(wavelength=wl, flux=fl) # z = 0.0 as these are restframe SEDs\n",
    "\n",
    "    # Using the astSED library calculate the UVJ colours using the U, V, and J passbands. \n",
    "    # We will use the AB magnitude system\n",
    "    uv = astSED.SED.calcColour(sed, pb_U, pb_V, magType='AB')\n",
    "    vj = astSED.SED.calcColour(sed, pb_V, pb_J, magType='AB')\n",
    "    \n",
    "    uv_list.append(uv)\n",
    "    vj_list.append(vj)\n",
    "    \n",
    "    \n",
    "    \n"
   ]
  },
  {
   "cell_type": "code",
   "execution_count": null,
   "metadata": {},
   "outputs": [
    {
     "data": {
      "image/png": "[encoded data removed]",
      "text/plain": [
       "<Figure size 1000x1000 with 1 Axes>"
      ]
     },
     "metadata": {},
     "output_type": "display_data"
    }
   ],
   "source": [
    "# We can now plot the UVJ colours using the colours we calculated in the UV, and VJ space.\n",
    "\n",
    "plt.figure(figsize=(10, 10))\n",
    "plt.scatter(vj_list, uv_list, c=\"red\", s=10, label=\"Galaxy\")\n",
    "plt.ylabel('U - V')\n",
    "plt.xlabel('V - J')\n",
    "plt.title(\"Restframe UVJ Colours for Brown's Templates\")\n",
    "plt.xlim([-0.5,2.2])\n",
    "plt.axes.line_width = 4\n",
    "plt.ylim([0,2.5])\n",
    "\n",
    "\n",
    "    # We can use code to make patch selections on the UVJ diagram, selecting Quiescent, Star-forming, and Dusty Galaxies\n",
    "    # We use the paths as provided below to make the selections.\n",
    "path_quiescent = [[-0.5, 1.3],\n",
    "                    [0.85, 1.3],\n",
    "                    [1.6, 1.95],\n",
    "                    [1.6, 2.5],\n",
    "                    [-0.5, 2.5]]\n",
    "\n",
    "path_sf = [[-0.5, 0.0],\n",
    "            [-0.5, 1.3],\n",
    "            [0.85, 1.3],\n",
    "            [1.2, 1.60333],\n",
    "            [1.2, 0.0]]\n",
    "\n",
    "path_sfd = [[1.2, 0.0],\n",
    "                [1.2, 1.60333],\n",
    "                [1.6, 1.95],\n",
    "                [1.6, 2.5],\n",
    "                [2.2, 2.5],\n",
    "                [2.2, 0.0]]\n",
    "\n",
    "plt.gca().add_patch(plt.Polygon(path_quiescent, closed=True, fill=True, facecolor=(1, 0, 0, 0.03),edgecolor='k', linewidth=2, linestyle='solid'))\n",
    "plt.gca().add_patch(plt.Polygon(path_sf, closed=True, fill=True, facecolor=(0, 0, 1, 0.03)))\n",
    "plt.gca().add_patch(plt.Polygon(path_sfd, closed=True, fill=True, facecolor=(1, 1, 0, 0.03)))\n",
    "\n",
    "plt.axvline(1.2, color='black', linestyle='--', ymin=0, ymax=1.60333/2.5) \n",
    "\n",
    "\n",
    "plt.annotate('Quiescent', (-0.4, 2.4), color='black')\n",
    "plt.annotate('Star-forming', (-0.4, 1.2), color='black')\n",
    "plt.annotate('Dusty', (1.95, 2.4), color='black')\n",
    "plt.show()\n",
    "\n"
   ]
  },
  {
   "cell_type": "code",
   "execution_count": null,
   "metadata": {},
   "outputs": [],
   "source": [
    "# We can perform a more indepth investigation into these colours as necessary. "
   ]
  },
  {
   "cell_type": "markdown",
   "metadata": {},
   "source": [
    "# Creating Composite SEDs with the Skirtor Models\n",
    "Now that we have successfully read in the templates from Brown, we aim to use these templates, combining these templates with a selection of model templates from the Skirtor project. This will allow us to theoretically see the effect of AGN on the colour space of galaxies"
   ]
  },
  {
   "cell_type": "markdown",
   "metadata": {},
   "source": [
    "%%% Todo at uni\n",
    "\n",
    "To make this entire proccess easier what we will do is create a seperate python file for this project. This will contain the required functions that will be used to interface with each model, template, or do things that I need to do often. This is intended to make it easier to manipulate the data. "
   ]
  },
  {
   "cell_type": "code",
   "execution_count": 152,
   "metadata": {},
   "outputs": [
    {
     "ename": "NameError",
     "evalue": "name 'TAU' is not defined",
     "output_type": "error",
     "traceback": [
      "\u001b[1;31m---------------------------------------------------------------------------\u001b[0m",
      "\u001b[1;31mNameError\u001b[0m                                 Traceback (most recent call last)",
      "Cell \u001b[1;32mIn[152], line 5\u001b[0m\n\u001b[0;32m      1\u001b[0m \u001b[38;5;66;03m# use the functions from the carf package\u001b[39;00m\n\u001b[0;32m      2\u001b[0m \n\u001b[0;32m      3\u001b[0m \u001b[38;5;66;03m# params\u001b[39;00m\n\u001b[0;32m      4\u001b[0m \u001b[38;5;66;03m#cf.read_skirtor_model()\u001b[39;00m\n\u001b[1;32m----> 5\u001b[0m TAU\n",
      "\u001b[1;31mNameError\u001b[0m: name 'TAU' is not defined"
     ]
    }
   ],
   "source": [
    "# use the functions from the carf package\n",
    "\n",
    "# params\n",
    "#cf.read_skirtor_model()\n",
    "TAU"
   ]
  },
  {
   "cell_type": "markdown",
   "metadata": {},
   "source": []
  }
 ],
 "metadata": {
  "kernelspec": {
   "display_name": "base",
   "language": "python",
   "name": "python3"
  },
  "language_info": {
   "codemirror_mode": {
    "name": "ipython",
    "version": 3
   },
   "file_extension": ".py",
   "mimetype": "text/x-python",
   "name": "python",
   "nbconvert_exporter": "python",
   "pygments_lexer": "ipython3",
   "version": "3.11.3"
  }
 },
 "nbformat": 4,
 "nbformat_minor": 2
}
