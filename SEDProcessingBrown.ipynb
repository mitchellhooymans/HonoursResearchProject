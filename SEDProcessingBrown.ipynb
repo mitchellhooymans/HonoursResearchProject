{
 "cells": [
  {
   "cell_type": "markdown",
   "metadata": {},
   "source": [
    "# Investigation of Brown's Rest-frame Templates\n",
    "this code is intended to be used to explore brown's rest-frame templates. These templates are intended to be used only to experiment with the process of combining seds and are not intended to be used to represent the final sed data as we need to potentially construct the correct galaxy seds by using correct SFHs,etc. In addition to the templates used correspond to the right galaxy type. This can be found in Brown's 2014 paper. \n",
    "\n",
    "Rest frame galaxies used in this code will be plotted on UVJ colour space as an experiment and will then be combined with AGN to form composites which will then again be plotted on UVJ colour space"
   ]
  },
  {
   "cell_type": "code",
   "execution_count": 46,
   "metadata": {},
   "outputs": [
    {
     "name": "stdout",
     "output_type": "stream",
     "text": [
      "The autoreload extension is already loaded. To reload it, use:\n",
      "  %reload_ext autoreload\n"
     ]
    }
   ],
   "source": [
    "# Import all of the relevant libraries\n",
    "import matplotlib.pyplot as plt\n",
    "import astropy.units as u\n",
    "import numpy as np\n",
    "import pandas as pd\n",
    "import os\n",
    "from astLib import astSED\n",
    "import astropy.io.fits as fits\n",
    "from carf import * # custom module for functions relating to the project\n",
    "\n",
    "%load_ext autoreload\n",
    "%autoreload 2"
   ]
  },
  {
   "cell_type": "code",
   "execution_count": 47,
   "metadata": {},
   "outputs": [
    {
     "name": "stdout",
     "output_type": "stream",
     "text": [
      "datasets\\Templates\\Brown\\2014\\Rest\n",
      "['Arp_118_restframe.dat', 'Arp_256_N_restframe.dat', 'Arp_256_S_restframe.dat', 'CGCG_049-057_restframe.dat', 'CGCG_436-030_restframe.dat', 'CGCG_453-062_restframe.dat', 'Haro_06_restframe.dat', 'IC_0691_restframe.dat', 'IC_0860_restframe.dat', 'IC_0883_restframe.dat', 'IC_4051_restframe.dat', 'IC_4553_restframe.dat', 'IC_5298_restframe.dat', 'III_Zw_035_restframe.dat', 'II_Zw_096_restframe.dat', 'IRAS_08572+3915_restframe.dat', 'IRAS_17208-0014_restframe.dat', 'Mrk_0331_restframe.dat', 'Mrk_0475_restframe.dat', 'Mrk_0930_restframe.dat', 'Mrk_1450_restframe.dat', 'Mrk_1490_restframe.dat', 'Mrk_33_restframe.dat', 'NGC_0337_restframe.dat', 'NGC_0474_restframe.dat', 'NGC_0520_restframe.dat', 'NGC_0584_restframe.dat', 'NGC_0628_restframe.dat', 'NGC_0660_restframe.dat', 'NGC_0695_restframe.dat', 'NGC_0750_restframe.dat', 'NGC_0855_restframe.dat', 'NGC_1068_restframe.dat', 'NGC_1144_restframe.dat', 'NGC_1275_restframe.dat', 'NGC_1614_restframe.dat', 'NGC_2388_restframe.dat', 'NGC_2403_restframe.dat', 'NGC_2537_restframe.dat', 'NGC_2623_restframe.dat', 'NGC_2798_restframe.dat', 'NGC_3049_restframe.dat', 'NGC_3079_restframe.dat', 'NGC_3190_restframe.dat', 'NGC_3198_restframe.dat', 'NGC_3265_restframe.dat', 'NGC_3310_restframe.dat', 'NGC_3351_restframe.dat', 'NGC_3521_restframe.dat', 'NGC_3627_restframe.dat', 'NGC_3690_restframe.dat', 'NGC_3773_restframe.dat', 'NGC_3870_restframe.dat', 'NGC_3938_restframe.dat', 'NGC_4088_restframe.dat', 'NGC_4125_restframe.dat', 'NGC_4138_restframe.dat', 'NGC_4168_restframe.dat', 'NGC_4194_restframe.dat', 'NGC_4254_restframe.dat', 'NGC_4321_restframe.dat', 'NGC_4365_restframe.dat', 'NGC_4385_restframe.dat', 'NGC_4387_restframe.dat', 'NGC_4450_restframe.dat', 'NGC_4458_restframe.dat', 'NGC_4473_restframe.dat', 'NGC_4486_restframe.dat', 'NGC_4536_restframe.dat', 'NGC_4550_restframe.dat', 'NGC_4551_restframe.dat', 'NGC_4552_restframe.dat', 'NGC_4559_restframe.dat', 'NGC_4569_restframe.dat', 'NGC_4579_restframe.dat', 'NGC_4594_restframe.dat', 'NGC_4621_restframe.dat', 'NGC_4625_restframe.dat', 'NGC_4631_restframe.dat', 'NGC_4660_restframe.dat', 'NGC_4670_restframe.dat', 'NGC_4676_A_restframe.dat', 'NGC_4725_restframe.dat', 'NGC_4826_restframe.dat', 'NGC_4860_restframe.dat', 'NGC_4889_restframe.dat', 'NGC_4926_restframe.dat', 'NGC_5033_restframe.dat', 'NGC_5055_restframe.dat', 'NGC_5104_restframe.dat', 'NGC_5194_restframe.dat', 'NGC_5195_restframe.dat', 'NGC_5256_restframe.dat', 'NGC_5257_restframe.dat', 'NGC_5258_restframe.dat', 'NGC_5653_restframe.dat', 'NGC_5713_restframe.dat', 'NGC_5866_restframe.dat', 'NGC_5953_restframe.dat', 'NGC_5992_restframe.dat', 'NGC_6052_restframe.dat', 'NGC_6090_restframe.dat', 'NGC_6240_restframe.dat', 'NGC_7331_restframe.dat', 'NGC_7585_restframe.dat', 'NGC_7591_restframe.dat', 'NGC_7592_restframe.dat', 'NGC_7673_restframe.dat', 'NGC_7674_restframe.dat', 'NGC_7679_restframe.dat', 'NGC_7714_restframe.dat', 'NGC_7771_restframe.dat', 'UGCA_166_restframe.dat', 'UGCA_208_restframe.dat', 'UGCA_219_restframe.dat', 'UGCA_410_restframe.dat', 'UGC_04881_restframe.dat', 'UGC_05101_restframe.dat', 'UGC_06665_restframe.dat', 'UGC_06850_restframe.dat', 'UGC_08335_NW_restframe.dat', 'UGC_08335_SE_restframe.dat', 'UGC_08696_restframe.dat', 'UGC_09618_N_restframe.dat', 'UGC_09618_restframe.dat', 'UGC_09618_S_restframe.dat', 'UGC_12150_restframe.dat', 'UM_461_restframe.dat']\n"
     ]
    }
   ],
   "source": [
    "# Begin by reading in the Brown template\n",
    "brown_folderpath = os.path.join('datasets', 'Templates', 'Brown', '2014','Rest')\n",
    "print(brown_folderpath)\n",
    "df_list, objname_list = read_brown_galaxy_templates(brown_folderpath)\n"
   ]
  },
  {
   "cell_type": "code",
   "execution_count": 48,
   "metadata": {},
   "outputs": [],
   "source": [
    "# Check that we have the associated list of templates, and names\n",
    "#print(df_list)"
   ]
  },
  {
   "cell_type": "markdown",
   "metadata": {},
   "source": [
    "# Convert each of the templates\n",
    "using the photometric filters (2Mass, Johnson) to determine the UVJ colours of these objects. We can then plot these colours on a UVJ diagram. This is similar to what was done with the previous brown templates, however these templates are given in rest frame colours from the start."
   ]
  },
  {
   "cell_type": "code",
   "execution_count": 49,
   "metadata": {},
   "outputs": [],
   "source": [
    "# We begin by reading in the names of the passband filters. \n",
    "# Similarly we can also read in the passbands for the UVJ colours\n",
    "pb_U = os.path.join('datasets', 'Filters', 'Generic_Johnson.U.dat')\n",
    "pb_V = os.path.join('datasets', 'Filters', 'Generic_Johnson.V.dat')\n",
    "pb_J = os.path.join('datasets', 'Filters', '2MASS_2MASS.J.dat')\n",
    "\n",
    "# use the astSED library to read in the passbands, ultimaly we want to normalise the passbands, and use these to generate UVJ colours.\n",
    "pb_U = astSED.Passband(pb_U, normalise=False)\n",
    "pb_V = astSED.Passband(pb_V, normalise=False)\n",
    "pb_J = astSED.Passband(pb_J, normalise=False)"
   ]
  },
  {
   "cell_type": "code",
   "execution_count": 50,
   "metadata": {},
   "outputs": [
    {
     "data": {
      "text/html": [
       "<div>\n",
       "<style scoped>\n",
       "    .dataframe tbody tr th:only-of-type {\n",
       "        vertical-align: middle;\n",
       "    }\n",
       "\n",
       "    .dataframe tbody tr th {\n",
       "        vertical-align: top;\n",
       "    }\n",
       "\n",
       "    .dataframe thead th {\n",
       "        text-align: right;\n",
       "    }\n",
       "</style>\n",
       "<table border=\"1\" class=\"dataframe\">\n",
       "  <thead>\n",
       "    <tr style=\"text-align: right;\">\n",
       "      <th></th>\n",
       "      <th>lambda (Angstroms)</th>\n",
       "      <th>Luminosity (W/Hz)</th>\n",
       "      <th>Total Flux (erg/s/cm^2/Angstrom)</th>\n",
       "      <th>Source</th>\n",
       "    </tr>\n",
       "  </thead>\n",
       "  <tbody>\n",
       "    <tr>\n",
       "      <th>0</th>\n",
       "      <td>102.01</td>\n",
       "      <td>6.782756e+11</td>\n",
       "      <td>1.625613e-07</td>\n",
       "      <td>0.0</td>\n",
       "    </tr>\n",
       "    <tr>\n",
       "      <th>1</th>\n",
       "      <td>103.91</td>\n",
       "      <td>9.235722e+11</td>\n",
       "      <td>2.133303e-07</td>\n",
       "      <td>0.0</td>\n",
       "    </tr>\n",
       "    <tr>\n",
       "      <th>2</th>\n",
       "      <td>106.08</td>\n",
       "      <td>1.280614e+12</td>\n",
       "      <td>2.838230e-07</td>\n",
       "      <td>0.0</td>\n",
       "    </tr>\n",
       "    <tr>\n",
       "      <th>3</th>\n",
       "      <td>108.06</td>\n",
       "      <td>1.804792e+12</td>\n",
       "      <td>3.854727e-07</td>\n",
       "      <td>0.0</td>\n",
       "    </tr>\n",
       "    <tr>\n",
       "      <th>4</th>\n",
       "      <td>110.06</td>\n",
       "      <td>2.827791e+12</td>\n",
       "      <td>5.822169e-07</td>\n",
       "      <td>0.0</td>\n",
       "    </tr>\n",
       "    <tr>\n",
       "      <th>...</th>\n",
       "      <td>...</td>\n",
       "      <td>...</td>\n",
       "      <td>...</td>\n",
       "      <td>...</td>\n",
       "    </tr>\n",
       "    <tr>\n",
       "      <th>2277</th>\n",
       "      <td>332163.75</td>\n",
       "      <td>2.604806e+24</td>\n",
       "      <td>5.887993e-02</td>\n",
       "      <td>3.0</td>\n",
       "    </tr>\n",
       "    <tr>\n",
       "      <th>2278</th>\n",
       "      <td>333944.03</td>\n",
       "      <td>3.497316e+24</td>\n",
       "      <td>7.821389e-02</td>\n",
       "      <td>3.0</td>\n",
       "    </tr>\n",
       "    <tr>\n",
       "      <th>2279</th>\n",
       "      <td>335725.44</td>\n",
       "      <td>3.498347e+24</td>\n",
       "      <td>7.740889e-02</td>\n",
       "      <td>3.0</td>\n",
       "    </tr>\n",
       "    <tr>\n",
       "      <th>2280</th>\n",
       "      <td>337507.72</td>\n",
       "      <td>2.625419e+24</td>\n",
       "      <td>5.748144e-02</td>\n",
       "      <td>3.0</td>\n",
       "    </tr>\n",
       "    <tr>\n",
       "      <th>2281</th>\n",
       "      <td>339291.19</td>\n",
       "      <td>2.644810e+24</td>\n",
       "      <td>5.729883e-02</td>\n",
       "      <td>3.0</td>\n",
       "    </tr>\n",
       "  </tbody>\n",
       "</table>\n",
       "<p>2282 rows × 4 columns</p>\n",
       "</div>"
      ],
      "text/plain": [
       "      lambda (Angstroms)  Luminosity (W/Hz)  Total Flux (erg/s/cm^2/Angstrom)  \\\n",
       "0                 102.01       6.782756e+11                      1.625613e-07   \n",
       "1                 103.91       9.235722e+11                      2.133303e-07   \n",
       "2                 106.08       1.280614e+12                      2.838230e-07   \n",
       "3                 108.06       1.804792e+12                      3.854727e-07   \n",
       "4                 110.06       2.827791e+12                      5.822169e-07   \n",
       "...                  ...                ...                               ...   \n",
       "2277           332163.75       2.604806e+24                      5.887993e-02   \n",
       "2278           333944.03       3.497316e+24                      7.821389e-02   \n",
       "2279           335725.44       3.498347e+24                      7.740889e-02   \n",
       "2280           337507.72       2.625419e+24                      5.748144e-02   \n",
       "2281           339291.19       2.644810e+24                      5.729883e-02   \n",
       "\n",
       "      Source  \n",
       "0        0.0  \n",
       "1        0.0  \n",
       "2        0.0  \n",
       "3        0.0  \n",
       "4        0.0  \n",
       "...      ...  \n",
       "2277     3.0  \n",
       "2278     3.0  \n",
       "2279     3.0  \n",
       "2280     3.0  \n",
       "2281     3.0  \n",
       "\n",
       "[2282 rows x 4 columns]"
      ]
     },
     "execution_count": 50,
     "metadata": {},
     "output_type": "execute_result"
    }
   ],
   "source": [
    "# We now want to calculate the UVJ colours for the galaxies\n",
    "# recalling that our SEDs are in the df_list array\n",
    "# we will use the astSED library to calculate the UVJ colours\n",
    "df_list[0]"
   ]
  },
  {
   "cell_type": "code",
   "execution_count": 51,
   "metadata": {},
   "outputs": [],
   "source": [
    "\n",
    "# We read in every SED in our list, converting each SED into the respective colours\n",
    "# we will first do this with colours and later construct a dataframe which calculates\n",
    "# the individual filter colours\n",
    "\n",
    "colour_list = []\n",
    "uv_list = []\n",
    "vj_list = []\n",
    "\n",
    "df_list[0]\n",
    "for n in range(127):\n",
    "    \n",
    "    # use the wavelength and flux of the sed\n",
    "    wl = df_list[n].iloc[:, 0].values\n",
    "    fl = df_list[n].iloc[:, 2].values\n",
    "    \n",
    "\n",
    "    # create an SED object containing the SED of the galaxy\n",
    "    # in addition to this use the relevant wavelength and flux\n",
    "    sed = astSED.SED(wavelength=wl, flux=fl) # z = 0.0 as these are restframe SEDs\n",
    "\n",
    "    # Using the astSED library calculate the UVJ colours using the U, V, and J passbands. \n",
    "    # We will use the AB magnitude system\n",
    "    uv = astSED.SED.calcColour(sed, pb_U, pb_V, magType='AB')\n",
    "    vj = astSED.SED.calcColour(sed, pb_V, pb_J, magType='AB')\n",
    "    \n",
    "    uv_list.append(uv)\n",
    "    vj_list.append(vj)\n",
    "    \n",
    "    \n",
    "    \n"
   ]
  },
  {
   "cell_type": "code",
   "execution_count": 52,
   "metadata": {},
   "outputs": [
    {
     "data": {
      "image/png": "[encoded data removed]",
      "text/plain": [
       "<Figure size 720x720 with 1 Axes>"
      ]
     },
     "metadata": {
      "needs_background": "light"
     },
     "output_type": "display_data"
    }
   ],
   "source": [
    "# We can now plot the UVJ colours using the colours we calculated in the UV, and VJ space.\n",
    "\n",
    "plt.figure(figsize=(10, 10))\n",
    "plt.scatter(vj_list, uv_list, c=\"red\", s=10, label=\"Galaxy\")\n",
    "plt.ylabel('U - V')\n",
    "plt.xlabel('V - J')\n",
    "plt.title(\"Restframe UVJ Colours for Brown's Templates\")\n",
    "plt.xlim([-0.5,2.2])\n",
    "plt.axes.line_width = 4\n",
    "plt.ylim([0,2.5])\n",
    "\n",
    "\n",
    "    # We can use code to make patch selections on the UVJ diagram, selecting Quiescent, Star-forming, and Dusty Galaxies\n",
    "    # We use the paths as provided below to make the selections.\n",
    "path_quiescent = [[-0.5, 1.3],\n",
    "                    [0.85, 1.3],\n",
    "                    [1.6, 1.95],\n",
    "                    [1.6, 2.5],\n",
    "                    [-0.5, 2.5]]\n",
    "\n",
    "path_sf = [[-0.5, 0.0],\n",
    "            [-0.5, 1.3],\n",
    "            [0.85, 1.3],\n",
    "            [1.2, 1.60333],\n",
    "            [1.2, 0.0]]\n",
    "\n",
    "path_sfd = [[1.2, 0.0],\n",
    "                [1.2, 1.60333],\n",
    "                [1.6, 1.95],\n",
    "                [1.6, 2.5],\n",
    "                [2.2, 2.5],\n",
    "                [2.2, 0.0]]\n",
    "\n",
    "plt.gca().add_patch(plt.Polygon(path_quiescent, closed=True, fill=True, facecolor=(1, 0, 0, 0.03),edgecolor='k', linewidth=2, linestyle='solid'))\n",
    "plt.gca().add_patch(plt.Polygon(path_sf, closed=True, fill=True, facecolor=(0, 0, 1, 0.03)))\n",
    "plt.gca().add_patch(plt.Polygon(path_sfd, closed=True, fill=True, facecolor=(1, 1, 0, 0.03)))\n",
    "\n",
    "plt.axvline(1.2, color='black', linestyle='--', ymin=0, ymax=1.60333/2.5) \n",
    "\n",
    "\n",
    "plt.annotate('Quiescent', (-0.4, 2.4), color='black')\n",
    "plt.annotate('Star-forming', (-0.4, 1.2), color='black')\n",
    "plt.annotate('Dusty', (1.95, 2.4), color='black')\n",
    "plt.show()\n",
    "\n"
   ]
  },
  {
   "cell_type": "code",
   "execution_count": 53,
   "metadata": {},
   "outputs": [],
   "source": [
    "# We can perform a more indepth investigation into these colours as necessary. "
   ]
  },
  {
   "cell_type": "markdown",
   "metadata": {},
   "source": [
    "# Creating Composite SEDs with the Skirtor Models\n",
    "Now that we have successfully read in the templates from Brown, we aim to use these templates, combining these templates with a selection of model templates from the Skirtor project. This will allow us to theoretically see the effect of AGN on the colour space of galaxies.\n",
    "\n",
    "Now that we have imported, selected and manipulated the Brown templates, we can also look at the models from Skirtor. While we won't look at all of the models in the entire project, we will begin by reading all the models in and doing a similar UVJ plot on their SEDs "
   ]
  },
  {
   "cell_type": "code",
   "execution_count": 157,
   "metadata": {},
   "outputs": [
    {
     "name": "stdout",
     "output_type": "stream",
     "text": [
      "{'tau': [3, 5, 7, 9, 11], 'p': [0, 0.5, 1, 1.5], 'q': [0, 0.5, 1, 1.5], 'oa': [10, 20, 30, 40, 50, 60, 70, 80], 'rr': [10, 20, 30], 'i': [0, 10, 20, 30, 40, 50, 60, 70, 80, 90]}\n"
     ]
    }
   ],
   "source": [
    "# read in all skirtor models\n",
    "skirtor_folderpath = os.path.join('datasets', 'Templates', 'Skirtor')\n",
    "\n",
    "# use the function defined in the carf module to read in the skirtor models\n",
    "#skirtor_models, objname_list = read_all_skirtor_models(skirtor_folderpath)\n",
    "\n",
    "# read in a single model for testing\n",
    "\n",
    "SKIRTOR_PARAMS\n",
    "print(SKIRTOR_PARAMS)\n",
    "\n",
    "\n",
    "# AGN params\n",
    "tau = SKIRTOR_PARAMS['tau'][4]\n",
    "p = SKIRTOR_PARAMS['p'][2]\n",
    "q = SKIRTOR_PARAMS['q'][0]\n",
    "oa = SKIRTOR_PARAMS['oa'][5]\n",
    "rr = SKIRTOR_PARAMS['rr'][2]\n",
    "i = SKIRTOR_PARAMS['i'][0]\n",
    "\n",
    "\n",
    "# read in model\n",
    "agn_model = read_skirtor_model(skirtor_folderpath, tau, p, q, oa, rr, i)"
   ]
  },
  {
   "cell_type": "code",
   "execution_count": 158,
   "metadata": {},
   "outputs": [
    {
     "data": {
      "image/png": "[encoded data removed]",
      "text/plain": [
       "<Figure size 720x720 with 1 Axes>"
      ]
     },
     "metadata": {
      "needs_background": "light"
     },
     "output_type": "display_data"
    }
   ],
   "source": [
    "# Now we have all of the models we can do a few things  \n",
    "# We can now plot an SED of the model\n",
    "\n",
    "wl = agn_model['lambda (Angstroms)']\n",
    "fl = agn_model['Total Flux (erg/s/cm^2/Angstrom)']\n",
    "\n",
    "# plot the agn model\n",
    "plt.figure(figsize=(10, 10))\n",
    "# plot the wavelength and flux\n",
    "plt.plot(wl, fl, label='AGN Model')\n",
    "plt.xlabel('Wavelength (Angstroms)')\n",
    "plt.ylabel('Flux')\n",
    "plt.title('AGN Model: $tau$'+str(tau)+' $p$'+str(p)+' $q$'+str(q)+' $oa$'+str(oa)+' $rr$'+str(rr)+' $i$'+str(i))\n",
    "plt.legend()\n",
    "plt.xscale('log')\n",
    "plt.show()\n",
    "\n",
    "\n",
    "\n",
    "\n"
   ]
  },
  {
   "cell_type": "code",
   "execution_count": 159,
   "metadata": {},
   "outputs": [
    {
     "name": "stdout",
     "output_type": "stream",
     "text": [
      "0      1.000000e+01\n",
      "1      1.148154e+01\n",
      "2      1.318257e+01\n",
      "3      1.513561e+01\n",
      "4      1.737801e+01\n",
      "           ...     \n",
      "127    5.754399e+06\n",
      "128    6.606934e+06\n",
      "129    7.585776e+06\n",
      "130    8.709636e+06\n",
      "131    1.000000e+07\n",
      "Name: lambda (Angstroms), Length: 132, dtype: float64\n",
      "0      1.072236e-06\n",
      "1      1.101906e-06\n",
      "2      1.132353e-06\n",
      "3      1.163713e-06\n",
      "4      1.196296e-06\n",
      "           ...     \n",
      "127    1.777759e-16\n",
      "128    7.920397e-17\n",
      "129    3.527742e-17\n",
      "130    1.571430e-17\n",
      "131    6.704363e-18\n",
      "Name: Total Flux (erg/s/cm^2/Angstrom), Length: 132, dtype: float64\n"
     ]
    },
    {
     "data": {
      "image/png": "[encoded data removed]",
      "text/plain": [
       "<Figure size 720x720 with 1 Axes>"
      ]
     },
     "metadata": {
      "needs_background": "light"
     },
     "output_type": "display_data"
    }
   ],
   "source": [
    "# After having seen that the model can be plotted we can now calculate the UVJ colours for the AGN model\n",
    "# We can use the same code as before to calculate the UVJ colours for the AGN model\n",
    "\n",
    "\n",
    "new_sed = astSED.SED(wavelength=wl, flux=fl) # z = 0.0 as these are restframe SEDs\n",
    "\n",
    "\n",
    "print(wl)\n",
    "print(fl)\n",
    "\n",
    "# Using the astSED library calculate the UVJ colours using the U, V, and J passbands. \n",
    "# We will use the AB magnitude system\n",
    "uv = astSED.SED.calcColour(new_sed, pb_U, pb_V, magType='AB')\n",
    "vj = astSED.SED.calcColour(new_sed, pb_V, pb_J, magType='AB')\n",
    "\n",
    "\n",
    "plot_uvj(uv, vj)\n"
   ]
  },
  {
   "cell_type": "code",
   "execution_count": null,
   "metadata": {},
   "outputs": [],
   "source": []
  },
  {
   "cell_type": "code",
   "execution_count": 190,
   "metadata": {},
   "outputs": [
    {
     "name": "stdout",
     "output_type": "stream",
     "text": [
      "0\n",
      "10\n",
      "20\n",
      "30\n",
      "40\n",
      "50\n",
      "60\n",
      "70\n",
      "80\n",
      "90\n"
     ]
    }
   ],
   "source": [
    "# Quickly do a little simulation to see how change the inclination angle effects the UVJ colour space\n",
    "\n",
    "\n",
    "tau = SKIRTOR_PARAMS['tau'][0]\n",
    "p = SKIRTOR_PARAMS['p'][0]\n",
    "q = SKIRTOR_PARAMS['q'][0]\n",
    "oa = SKIRTOR_PARAMS['oa'][2]\n",
    "rr = SKIRTOR_PARAMS['rr'][2]\n",
    "i = SKIRTOR_PARAMS['i'][0]\n",
    "\n",
    "\n",
    "\n",
    "# testing over all angles \n",
    "uv_list = []\n",
    "vj_list = []\n",
    "inclin = []\n",
    "\n",
    "for inclination in SKIRTOR_PARAMS['i']:\n",
    "    # read in model\n",
    "    agn_model = read_skirtor_model(skirtor_folderpath, tau, p, q, oa, rr, inclination)\n",
    "    \n",
    "    wl = agn_model['lambda (Angstroms)']\n",
    "    fl = agn_model['Total Flux (erg/s/cm^2/Angstrom)']\n",
    "    \n",
    "    # create an SED object containing the SED of the AGN\n",
    "    sed = astSED.SED(wavelength=wl, flux=fl) # z = 0.0 as these are restframe SEDs\n",
    "\n",
    "    # Using the astSED library calculate the UVJ colours using the U, V, and J passbands. \n",
    "    # We will use the AB magnitude system\n",
    "    uv = astSED.SED.calcColour(sed, pb_U, pb_V, magType='AB')\n",
    "    vj = astSED.SED.calcColour(sed, pb_V, pb_J, magType='AB')  \n",
    "    \n",
    "    # add to uv and vj list\n",
    "    uv_list.append(uv)\n",
    "    vj_list.append(vj)\n",
    "    inclin.append(inclination)\n",
    "\n"
   ]
  },
  {
   "cell_type": "code",
   "execution_count": 199,
   "metadata": {},
   "outputs": [
    {
     "data": {
      "image/png": "[encoded data removed]",
      "text/plain": [
       "<Figure size 720x720 with 1 Axes>"
      ]
     },
     "metadata": {
      "needs_background": "light"
     },
     "output_type": "display_data"
    }
   ],
   "source": [
    "plot_uvj(uv_list[0:9], vj_list[0:9], True)\n"
   ]
  },
  {
   "cell_type": "code",
   "execution_count": null,
   "metadata": {},
   "outputs": [],
   "source": [
    "# Todo next\n",
    "\n"
   ]
  },
  {
   "cell_type": "markdown",
   "metadata": {},
   "source": [
    "Now we have a rudimentary understanding of the models, we can combine the models with the Brown templates to create composite SEDs. These composite SEDs will be used to create a UVJ plot to see the effect of AGN on the colour space of galaxies.\n",
    "\n",
    "\n",
    "\n",
    "To accomplish this we focus on doing the next few things:\n",
    "\n",
    "1. Adding swire templates handling into the helper package\n",
    "2. Adding the ability to read in the swire templates\n",
    "3. functionality to create composite SEDs\n",
    "4. combining swire seds with agn models\n",
    "5. plotting the composite seds on a UVJ diagram\n",
    "6. ability to read in the fritz models\n",
    "7. combining the fritz models with the swire templates\n",
    "8. adding all of the above into functionality that can be reused in a seperate file\n",
    "\n",
    "\n",
    "\n",
    "\n",
    "\n",
    "\n",
    "\n",
    "\n"
   ]
  },
  {
   "cell_type": "code",
   "execution_count": null,
   "metadata": {},
   "outputs": [],
   "source": []
  }
 ],
 "metadata": {
  "kernelspec": {
   "display_name": "base",
   "language": "python",
   "name": "python3"
  },
  "language_info": {
   "codemirror_mode": {
    "name": "ipython",
    "version": 3
   },
   "file_extension": ".py",
   "mimetype": "text/x-python",
   "name": "python",
   "nbconvert_exporter": "python",
   "pygments_lexer": "ipython3",
   "version": "3.8.8"
  }
 },
 "nbformat": 4,
 "nbformat_minor": 2
}
