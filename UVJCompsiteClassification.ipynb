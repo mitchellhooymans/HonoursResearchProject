{
 "cells": [
  {
   "cell_type": "markdown",
   "metadata": {},
   "source": [
    "# Classification and Investigation into UVJ Reigons for Michael Brown's GALSEDATLAS templates, and GAL+AGN Composites\n",
    "This script is intended to be used to investigate and explore the behaviour of Michael Brown's GALSEDATLAS templates in UVJ space. The templates are rest frame templates which will be plotted as UVJ points. A dataframe will be made for each template, plus AGN contribution, this will be plotted in UVJ space and classified with the my UVJ classification code. \n",
    "\n",
    "Using the UVJ classification for each percentage of AGN in the composiste we will investigate how AGN contribution effects the overal position of the galaxy in UVJ space. We will take note of the relative position that each of these points move, coming up with a metric to describe the movement, and we may also investigate the percentage of AGN that are moving into different reigons at each increasing AGN contribution\n",
    "\n",
    "i.e our population of quiescents:\n",
    "\n",
    "0% AGN - inital position: 0% of population in SF, full quiescent population in inital population\n",
    "\n",
    "10% AGN - some dx, dy: % of population now in SF\n",
    "\n",
    "20% AGN - some more dx, dy: % of population now in SF\n",
    "\n",
    "and so on, we could easily do a test with both this, and with the ZFOURGE SEDs to see how they change with time. This may be one of the avenues we can explore. \n",
    "\n",
    "This code is developed as a general purpose investigation so it may be converted into a set of resuseable functions in the helper package."
   ]
  },
  {
   "cell_type": "code",
   "execution_count": 2,
   "metadata": {},
   "outputs": [],
   "source": [
    "# Begin by importing all relevant libraries and packages\n",
    "import matplotlib.pyplot as plt\n",
    "import astropy.units as u\n",
    "import numpy as np\n",
    "import pandas as pd\n",
    "import os\n",
    "from astLib import astSED\n",
    "import astropy.io.fits as fits\n",
    "from carf import * # custom module for functions relating to the project\n",
    "import matplotlib.path as mpath\n",
    "\n",
    "\n",
    "# So that we can change the helper functions without reloading the kernel\n",
    "%load_ext autoreload\n",
    "%autoreload 2"
   ]
  },
  {
   "cell_type": "markdown",
   "metadata": {},
   "source": [
    "To begin we would like to explore the Brown templates, \n",
    "we can use code similar to before to create a list of dataframes, and punch these through some code to \n",
    "create a list of composites. \n",
    "These composites will eventually be compiled into a master dataframe with \n",
    "id, UV_position, VJ_position, AGN_frac, reigon\n",
    "this will allow easier processing of the UVJ code for selecting UVJ points\n",
    "similarly whil there may be conflicts with the ID returning multiple\n",
    "we expect this as there should be multiple id's at different AGN fraction"
   ]
  },
  {
   "cell_type": "code",
   "execution_count": 3,
   "metadata": {},
   "outputs": [],
   "source": [
    "# setup all the directories we are getting our data from \n",
    "# Skirtor models\n",
    "skirtor_folderpath = os.path.join('datasets', 'Templates', 'Skirtor')\n",
    "\n",
    "# Swire templates\n",
    "swire_folderpath = os.path.join('datasets', 'Templates', 'SWIRE')\n",
    "\n",
    "# Brown templates\n",
    "brown_folderpath = os.path.join('datasets', 'Templates', 'Brown', '2014','Rest')\n",
    "\n",
    "# Filters\n",
    "pb_U_path = os.path.join('datasets', 'Filters', 'Generic_Johnson.U.dat')\n",
    "pb_V_path = os.path.join('datasets', 'Filters', 'Generic_Johnson.V.dat')\n",
    "pb_J_path = os.path.join('datasets', 'Filters', '2MASS_2MASS.J.dat')"
   ]
  },
  {
   "cell_type": "code",
   "execution_count": 15,
   "metadata": {},
   "outputs": [],
   "source": [
    "# Load the filters\n",
    "pb_U = astSED.Passband(pb_U_path, normalise=False)\n",
    "pb_V = astSED.Passband(pb_V_path, normalise=False)\n",
    "pb_J = astSED.Passband(pb_J_path, normalise=False)"
   ]
  },
  {
   "cell_type": "code",
   "execution_count": 4,
   "metadata": {},
   "outputs": [],
   "source": [
    "templates_folderpath = brown_folderpath\n",
    "model_folderpath = skirtor_folderpath\n",
    "\n",
    "# Choose an AGN model\n",
    "agn_model, agn_model_params = create_type1_skirtor_agn(skirtor_folderpath)\n",
    "\n",
    "# Read in the set of templates \n",
    "galaxy_templates, galaxy_names = read_brown_galaxy_templates(templates_folderpath)\n"
   ]
  },
  {
   "cell_type": "code",
   "execution_count": 10,
   "metadata": {},
   "outputs": [
    {
     "name": "stdout",
     "output_type": "stream",
     "text": [
      "[0.  0.1 0.2 0.3 0.4 0.5 0.6 0.7 0.8 0.9 1. ]\n"
     ]
    }
   ],
   "source": [
    "# Define the amount of alpha values to explore, we can make this as big or small as possible \n",
    "# depending on the tests we plan on running this data through. For now we will \n",
    "# use linearly spaced alpha values from 0 to 1\n",
    "alpha_values = np.linspace(0, 1, 11)\n",
    "print(alpha_values)"
   ]
  },
  {
   "cell_type": "code",
   "execution_count": 11,
   "metadata": {},
   "outputs": [],
   "source": [
    "# Now we want to make the composites of each of our galaxies\n",
    "composites = generate_composite_set(agn_model, galaxy_templates, alpha_values)"
   ]
  },
  {
   "cell_type": "code",
   "execution_count": 16,
   "metadata": {},
   "outputs": [],
   "source": [
    "# We want to find the UVJ colours for each of these also\n",
    "# Generate the UVJ colours\n",
    "uv, vj = generate_UVJ_composite_set_colours(composites, alpha_values, pb_U, pb_V, pb_J)"
   ]
  },
  {
   "cell_type": "code",
   "execution_count": 20,
   "metadata": {},
   "outputs": [
    {
     "name": "stdout",
     "output_type": "stream",
     "text": [
      "11 11\n"
     ]
    }
   ],
   "source": [
    "# So we have 11 alpha values, with composites for "
   ]
  },
  {
   "cell_type": "code",
   "execution_count": null,
   "metadata": {},
   "outputs": [],
   "source": []
  }
 ],
 "metadata": {
  "kernelspec": {
   "display_name": "base",
   "language": "python",
   "name": "python3"
  },
  "language_info": {
   "codemirror_mode": {
    "name": "ipython",
    "version": 3
   },
   "file_extension": ".py",
   "mimetype": "text/x-python",
   "name": "python",
   "nbconvert_exporter": "python",
   "pygments_lexer": "ipython3",
   "version": "3.11.3"
  }
 },
 "nbformat": 4,
 "nbformat_minor": 2
}
