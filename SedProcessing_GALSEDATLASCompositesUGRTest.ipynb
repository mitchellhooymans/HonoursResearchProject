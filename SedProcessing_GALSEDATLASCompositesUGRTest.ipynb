{
 "cells": [
  {
   "cell_type": "markdown",
   "metadata": {},
   "source": [
    "# GALSEDATLAS AGN Composites and Applications to the Lyman Break Technique \n",
    "This code is intended to test the composite models against against the GALSEDATLAS AGN composites. The code is also intended to test the Lyman Break technique on the GALSEDATLAS AGN composites."
   ]
  },
  {
   "cell_type": "code",
   "execution_count": null,
   "metadata": {},
   "outputs": [],
   "source": []
  }
 ],
 "metadata": {
  "language_info": {
   "name": "python"
  }
 },
 "nbformat": 4,
 "nbformat_minor": 2
}
