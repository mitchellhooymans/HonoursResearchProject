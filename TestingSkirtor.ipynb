{
 "cells": [
  {
   "cell_type": "markdown",
   "metadata": {},
   "source": [
    "# Testing the Skirtor Models\n",
    "This script is intended to be used to explore the Skirtor models that were used in Stalveski et al's 2012 paper. The models that were presented in this paper and are further explored in the 2016 paper are an exploration of a two-phase clumpy dusty torus model. Where the parameters are as follows:\n",
    "\n",
    "L  = the luminosity of the central source\n",
    "\n",
    "R_in = the inner radius of the torus\n",
    "\n",
    "R_out = the outer radius of the torus\n",
    "\n",
    "t_9.7 = the optical depth at 9.7 microns\n",
    "\n",
    "p = the power law index of the radial gradient of dust density\n",
    "\n",
    "q = index that sets the dust desnity gradient with respect to the polar angle\n",
    "\n",
    "i = the inclination angle of the torus\n",
    "\n",
    "omega = the opening angle of the torus\n",
    "\n",
    "Filling factor = the fraction of the volume of the torus that is filled with dust\n",
    "\n",
    "constrast = the ratio of the dust density in the clumps to the average dust density in the torus\n",
    "\n",
    "size of clumps = the size of the clumps in the torus\n",
    "\n"
   ]
  },
  {
   "cell_type": "markdown",
   "metadata": {},
   "source": [
    "\n",
    "# Naming Convention of Models\n",
    "\n",
    "File name example: t5_p1_q0_oa50_R20_Mcl0.97_i30_sed.dat\n",
    "\n",
    "t: tau9.7, average edge-on optical depth at 9.7 micron; the actual one along the line of sight may vary depending on the clumps distribution.\n",
    "\n",
    "p: power-law exponent that sets radial gradient of dust density\n",
    "\n",
    "q: index that sets dust density gradient with polar angle\n",
    "\n",
    "oa: angle measured between the equatorial plan and edge of the torus. Half-opening angle of the dust-free cone is 90-oa.\n",
    "\n",
    "R: ratio of outer to inner radius, R_out/R_in\n",
    "\n",
    "Mcl: fraction of total dust mass inside clumps. 0.97 means 97% of total mass is inside the clumps and 3% in the interclump dust.\n",
    "\n",
    "i: inclination, i.e. viewing angle, i.e. position of the instrument w.r.t. the AGN axis. i=0: face-on, type 1 view; i=90: edge-on, type 2 view."
   ]
  },
  {
   "cell_type": "markdown",
   "metadata": {},
   "source": [
    "In the 2012 paper the authors adopt the following values: R_in = 0.5pc, R_out = 15pc, omega = 50 degrees, optical depth of 1, and 5, p = 0, 1 and q = 0, 2, 4, constrast 100\n"
   ]
  },
  {
   "cell_type": "code",
   "execution_count": 7,
   "metadata": {},
   "outputs": [],
   "source": [
    "# Begin by importing all relevant libraries\n",
    "import numpy as np\n",
    "import matplotlib.pyplot as plt\n",
    "import pandas as pd\n",
    "import seaborn as sns\n",
    "import os\n",
    "import astropy as ap"
   ]
  },
  {
   "cell_type": "code",
   "execution_count": 3,
   "metadata": {},
   "outputs": [],
   "source": [
    "# Define the naming convention for reading in the Skirtor models\n",
    "# Define the path to the directory containing the models\n",
    "\n",
    "\n",
    "\n",
    "# we need to construct the filename for the model to be read in, \n",
    "# as there is a parameter made naming convention we can use parameters to select the file\n",
    "\n",
    "\n",
    "optical_depth = 3                   # This can take values 3, 5, 7, 9, 11\n",
    "p = 0                               # 0, 0.5, 1, 1.5\n",
    "q = 0                               # 0, 0.5, 1, 1.5\n",
    "opening_angle = 50                  # 10, 20, 30, 40, 50, 60, 70, 80\n",
    "radius_ratio = 30                   # 10, 20, 30\n",
    "clump_dustmass_fraction = 0.97 \n",
    "inclination = 0                     # 0, 10, 20, 30, 40, 50, 60, 70, 80, 90\n",
    "\n",
    "\n",
    "filename = 't'+str(optical_depth)+'_p'+str(p)+'_q'+str(q)+'_oa'+str(opening_angle)+'_R'+str(radius_ratio)+'_Mcl0.97_i'+str(inclination)+'_sed.dat'\n",
    "\n",
    "# Join the file to the path and then read in the file\n",
    "filepath =os.path.join('datasets', 'Templates', 'Skirtor', filename)"
   ]
  },
  {
   "cell_type": "code",
   "execution_count": 4,
   "metadata": {},
   "outputs": [],
   "source": [
    "# Read in the file and convert it to a pandas dataframe\n",
    "data = np.loadtxt(filepath, skiprows=5)\n",
    "\n",
    "# Convert it to a pandas dataframe # All fluxes are of the form lambda*F_lambda\n",
    "df = pd.DataFrame(data, columns=['lambda (micron)', 'Total Flux (W/m2)', 'Direct AGN Flux (W/m2)', 'Scattered AGN Flux (W/m2)', 'Total Dust Emission Flux (W/m2)', 'Dust Emission Scattered Flux(W/m2)', 'Transparent Flux(W/m2)'])\n"
   ]
  },
  {
   "cell_type": "code",
   "execution_count": 6,
   "metadata": {},
   "outputs": [
    {
     "data": {
      "text/html": [
       "<div>\n",
       "<style scoped>\n",
       "    .dataframe tbody tr th:only-of-type {\n",
       "        vertical-align: middle;\n",
       "    }\n",
       "\n",
       "    .dataframe tbody tr th {\n",
       "        vertical-align: top;\n",
       "    }\n",
       "\n",
       "    .dataframe thead th {\n",
       "        text-align: right;\n",
       "    }\n",
       "</style>\n",
       "<table border=\"1\" class=\"dataframe\">\n",
       "  <thead>\n",
       "    <tr style=\"text-align: right;\">\n",
       "      <th></th>\n",
       "      <th>lambda (micron)</th>\n",
       "      <th>Total Flux (W/m2)</th>\n",
       "      <th>Direct AGN Flux (W/m2)</th>\n",
       "      <th>Scattered AGN Flux (W/m2)</th>\n",
       "      <th>Total Dust Emission Flux (W/m2)</th>\n",
       "      <th>Dust Emission Scattered Flux(W/m2)</th>\n",
       "      <th>Transparent Flux(W/m2)</th>\n",
       "    </tr>\n",
       "  </thead>\n",
       "  <tbody>\n",
       "    <tr>\n",
       "      <th>0</th>\n",
       "      <td>0.001000</td>\n",
       "      <td>1.073359e-12</td>\n",
       "      <td>1.073356e-12</td>\n",
       "      <td>2.596719e-18</td>\n",
       "      <td>0.0</td>\n",
       "      <td>0.0</td>\n",
       "      <td>1.073356e-12</td>\n",
       "    </tr>\n",
       "    <tr>\n",
       "      <th>1</th>\n",
       "      <td>0.001148</td>\n",
       "      <td>1.266908e-12</td>\n",
       "      <td>1.266905e-12</td>\n",
       "      <td>3.840899e-18</td>\n",
       "      <td>0.0</td>\n",
       "      <td>0.0</td>\n",
       "      <td>1.266905e-12</td>\n",
       "    </tr>\n",
       "    <tr>\n",
       "      <th>2</th>\n",
       "      <td>0.001318</td>\n",
       "      <td>1.495359e-12</td>\n",
       "      <td>1.495354e-12</td>\n",
       "      <td>5.761181e-18</td>\n",
       "      <td>0.0</td>\n",
       "      <td>0.0</td>\n",
       "      <td>1.495354e-12</td>\n",
       "    </tr>\n",
       "    <tr>\n",
       "      <th>3</th>\n",
       "      <td>0.001514</td>\n",
       "      <td>1.765005e-12</td>\n",
       "      <td>1.764997e-12</td>\n",
       "      <td>8.671782e-18</td>\n",
       "      <td>0.0</td>\n",
       "      <td>0.0</td>\n",
       "      <td>1.764997e-12</td>\n",
       "    </tr>\n",
       "    <tr>\n",
       "      <th>4</th>\n",
       "      <td>0.001738</td>\n",
       "      <td>2.083277e-12</td>\n",
       "      <td>2.083262e-12</td>\n",
       "      <td>1.536181e-17</td>\n",
       "      <td>0.0</td>\n",
       "      <td>0.0</td>\n",
       "      <td>2.083262e-12</td>\n",
       "    </tr>\n",
       "  </tbody>\n",
       "</table>\n",
       "</div>"
      ],
      "text/plain": [
       "   lambda (micron)  Total Flux (W/m2)  Direct AGN Flux (W/m2)  \\\n",
       "0         0.001000       1.073359e-12            1.073356e-12   \n",
       "1         0.001148       1.266908e-12            1.266905e-12   \n",
       "2         0.001318       1.495359e-12            1.495354e-12   \n",
       "3         0.001514       1.765005e-12            1.764997e-12   \n",
       "4         0.001738       2.083277e-12            2.083262e-12   \n",
       "\n",
       "   Scattered AGN Flux (W/m2)  Total Dust Emission Flux (W/m2)  \\\n",
       "0               2.596719e-18                              0.0   \n",
       "1               3.840899e-18                              0.0   \n",
       "2               5.761181e-18                              0.0   \n",
       "3               8.671782e-18                              0.0   \n",
       "4               1.536181e-17                              0.0   \n",
       "\n",
       "   Dust Emission Scattered Flux(W/m2)  Transparent Flux(W/m2)  \n",
       "0                                 0.0            1.073356e-12  \n",
       "1                                 0.0            1.266905e-12  \n",
       "2                                 0.0            1.495354e-12  \n",
       "3                                 0.0            1.764997e-12  \n",
       "4                                 0.0            2.083262e-12  "
      ]
     },
     "execution_count": 6,
     "metadata": {},
     "output_type": "execute_result"
    }
   ],
   "source": [
    "df.head()"
   ]
  },
  {
   "cell_type": "code",
   "execution_count": 8,
   "metadata": {},
   "outputs": [
    {
     "data": {
      "text/plain": [
       "[<matplotlib.lines.Line2D at 0x22f77904e80>]"
      ]
     },
     "execution_count": 8,
     "metadata": {},
     "output_type": "execute_result"
    },
    {
     "data": {
      "image/png": "[encoded data removed]",
      "text/plain": [
       "<Figure size 720x432 with 1 Axes>"
      ]
     },
     "metadata": {
      "needs_background": "light"
     },
     "output_type": "display_data"
    }
   ],
   "source": [
    "# Now we can plot the SED across it's wavelength range\n",
    "figure = plt.figure(figsize=(10, 6))\n",
    "plt.plot(df['lambda (micron)'], df['Total Flux (W/m2)'], label='Total Flux')"
   ]
  }
 ],
 "metadata": {
  "kernelspec": {
   "display_name": "base",
   "language": "python",
   "name": "python3"
  },
  "language_info": {
   "codemirror_mode": {
    "name": "ipython",
    "version": 3
   },
   "file_extension": ".py",
   "mimetype": "text/x-python",
   "name": "python",
   "nbconvert_exporter": "python",
   "pygments_lexer": "ipython3",
   "version": "3.8.8"
  }
 },
 "nbformat": 4,
 "nbformat_minor": 2
}
