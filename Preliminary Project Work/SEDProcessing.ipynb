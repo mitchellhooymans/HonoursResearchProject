{
 "cells": [
  {
   "cell_type": "markdown",
   "metadata": {},
   "source": [
    "# SED Proccessing\n",
    "Using the theoretical SED templates that were obtained from Fritz we can use these templates to preform a linear combination with quiescent, star-forming, and other galaxy types to create composites. These composite galaxies can be used to compare to the observed SEDs of galaxies to determine the best fit.\n",
    "\n",
    "In this script we will be combining SEDs and converting them to fluxes in the in the UVJ bands that are present in the ZFOURGE survey."
   ]
  },
  {
   "cell_type": "code",
   "execution_count": null,
   "metadata": {},
   "outputs": [],
   "source": []
  }
 ],
 "metadata": {
  "language_info": {
   "name": "python"
  }
 },
 "nbformat": 4,
 "nbformat_minor": 2
}
