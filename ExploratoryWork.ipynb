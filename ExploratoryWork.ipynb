{
 "cells": [
  {
   "cell_type": "markdown",
   "metadata": {},
   "source": [
    "# Exploratory Work\n",
    "\n",
    "Author: Mitchell Hooymans \n",
    "\n",
    "This notebook is intended to be exploratory work into the data, SEDs, and the overall thesis topic \"Investigating the Impact of AGN on Rest-frame UV and VJ colour space\". This notebook will be one of many used to explore multiple topics within this project but will not focus on the final results of the project. "
   ]
  },
  {
   "cell_type": "code",
   "execution_count": 4,
   "metadata": {},
   "outputs": [],
   "source": [
    "# Import required libraries\n",
    "# Begin by Importing all of the required libraries.\n",
    "import matplotlib.pyplot as plt\n",
    "import astropy.units as u\n",
    "import numpy as np\n",
    "import pandas as pd\n",
    "import os\n",
    "from astLib import astSED\n",
    "import astropy.io.fits as fits"
   ]
  },
  {
   "cell_type": "code",
   "execution_count": 5,
   "metadata": {},
   "outputs": [
    {
     "name": "stdout",
     "output_type": "stream",
     "text": [
      "Filename: datasets\\Templates\\hlsp_galsedatlas_multi_multi_all_multi_v1_cat.fits\n",
      "No.    Name      Ver    Type      Cards   Dimensions   Format\n",
      "  0  PRIMARY       1 PrimaryHDU      10   ()      \n",
      "  1  photometry    1 BinTableHDU    121   129R x 55C   [15A, D, D, D, D, D, D, D, D, D, D, D, D, D, D, D, D, D, D, D, D, D, D, D, D, D, D, D, D, D, D, D, D, D, D, D, D, D, D, D, D, D, D, D, D, D, D, D, D, D, D, D, D, D, D]   \n",
      "  2  photometry_minus_a    1 BinTableHDU    121   129R x 55C   [15A, D, D, D, D, D, D, D, D, D, D, D, D, D, D, D, D, D, D, D, D, D, D, D, D, D, D, D, D, D, D, D, D, D, D, D, D, D, D, D, D, D, D, D, D, D, D, D, D, D, D, D, D, D, D]   \n",
      "  3  summary       1 BinTableHDU     35   129R x 12C   [15A, D, D, 11A, 4A, 6A, D, D, D, D, K, D]   \n",
      "  4  extinction    1 BinTableHDU     67   129R x 28C   [15A, D, D, D, D, D, D, D, D, D, D, D, D, D, D, D, D, D, D, D, D, D, D, D, D, D, D, D]   \n",
      "  5  NGC_4450_spec    1 BinTableHDU     32   2364R x 4C   [D, D, D, K]   \n",
      "  6  UGC_04881_spec    1 BinTableHDU     32   2383R x 4C   [D, D, D, K]   \n",
      "  7  NGC_4569_spec    1 BinTableHDU     32   2306R x 4C   [D, D, D, K]   \n",
      "  8  NGC_0855_spec    1 BinTableHDU     32   2299R x 4C   [D, D, D, K]   \n",
      "  9  III_Zw_035_spec    1 BinTableHDU     32   2337R x 4C   [D, D, D, K]   \n",
      " 10  NGC_0628_spec    1 BinTableHDU     32   2301R x 4C   [D, D, D, K]   \n",
      " 11  NGC_0337_spec    1 BinTableHDU     32   2298R x 4C   [D, D, D, K]   \n",
      " 12  NGC_3198_spec    1 BinTableHDU     32   2296R x 4C   [D, D, D, K]   \n",
      " 13  UGC_08696_spec    1 BinTableHDU     32   2381R x 4C   [D, D, D, K]   \n",
      " 14  Arp_118_spec    1 BinTableHDU     32   2282R x 4C   [D, D, D, K]   \n",
      " 15  NGC_4458_spec    1 BinTableHDU     32   3202R x 4C   [D, D, D, K]   \n",
      " 16  NGC_4125_spec    1 BinTableHDU     32   2300R x 4C   [D, D, D, K]   \n",
      " 17  NGC_4889_spec    1 BinTableHDU     32   3053R x 4C   [D, D, D, K]   \n",
      " 18  Mrk_33_spec    1 BinTableHDU     32   2378R x 4C   [D, D, D, K]   \n",
      " 19  IC_5298_spec    1 BinTableHDU     32   2383R x 4C   [D, D, D, K]   \n",
      " 20  NGC_2623_spec    1 BinTableHDU     32   2380R x 4C   [D, D, D, K]   \n",
      " 21  UGC_09618_S_spec    1 BinTableHDU     32   2280R x 4C   [D, D, D, K]   \n",
      " 22  Mrk_0331_spec    1 BinTableHDU     32   2385R x 4C   [D, D, D, K]   \n",
      " 23  NGC_3079_spec    1 BinTableHDU     32   2297R x 4C   [D, D, D, K]   \n",
      " 24  UGCA_166_spec    1 BinTableHDU     32   2346R x 4C   [D, D, D, K]   \n",
      " 25  NGC_7673_spec    1 BinTableHDU     32   2287R x 4C   [D, D, D, K]   \n",
      " 26  NGC_6052_spec    1 BinTableHDU     32   2360R x 4C   [D, D, D, K]   \n",
      " 27  NGC_0520_spec    1 BinTableHDU     32   2353R x 4C   [D, D, D, K]   \n",
      " 28  UGC_06665_spec    1 BinTableHDU     32   2305R x 4C   [D, D, D, K]   \n",
      " 29  II_Zw_096_spec    1 BinTableHDU     32   2357R x 4C   [D, D, D, K]   \n",
      " 30  NGC_3310_spec    1 BinTableHDU     32   2295R x 4C   [D, D, D, K]   \n",
      " 31  NGC_3190_spec    1 BinTableHDU     32   2296R x 4C   [D, D, D, K]   \n",
      " 32  NGC_3938_spec    1 BinTableHDU     32   2300R x 4C   [D, D, D, K]   \n",
      " 33  NGC_3265_spec    1 BinTableHDU     32   2297R x 4C   [D, D, D, K]   \n",
      " 34  NGC_5257_spec    1 BinTableHDU     32   2284R x 4C   [D, D, D, K]   \n",
      " 35  NGC_3690_spec    1 BinTableHDU     32   2367R x 4C   [D, D, D, K]   \n",
      " 36  IC_4553_spec    1 BinTableHDU     32   2401R x 4C   [D, D, D, K]   \n",
      " 37  NGC_5866_spec    1 BinTableHDU     32   2298R x 4C   [D, D, D, K]   \n",
      " 38  NGC_4385_spec    1 BinTableHDU     32   2300R x 4C   [D, D, D, K]   \n",
      " 39  NGC_2798_spec    1 BinTableHDU     32   2297R x 4C   [D, D, D, K]   \n",
      " 40  UGCA_208_spec    1 BinTableHDU     32   2295R x 4C   [D, D, D, K]   \n",
      " 41  NGC_4725_spec    1 BinTableHDU     32   2204R x 4C   [D, D, D, K]   \n",
      " 42  IC_0691_spec    1 BinTableHDU     32   2284R x 4C   [D, D, D, K]   \n",
      " 43  NGC_3351_spec    1 BinTableHDU     32   2297R x 4C   [D, D, D, K]   \n",
      " 44  NGC_1144_spec    1 BinTableHDU     32   2282R x 4C   [D, D, D, K]   \n",
      " 45  NGC_4551_spec    1 BinTableHDU     32   3253R x 4C   [D, D, D, K]   \n",
      " 46  NGC_7771_spec    1 BinTableHDU     32   2364R x 4C   [D, D, D, K]   \n",
      " 47  NGC_5713_spec    1 BinTableHDU     32   2297R x 4C   [D, D, D, K]   \n",
      " 48  NGC_1275_spec    1 BinTableHDU     32   2370R x 4C   [D, D, D, K]   \n",
      " 49  NGC_4594_spec    1 BinTableHDU     32   2297R x 4C   [D, D, D, K]   \n",
      " 50  NGC_7679_spec    1 BinTableHDU     32   2381R x 4C   [D, D, D, K]   \n",
      " 51  NGC_4168_spec    1 BinTableHDU     32   2224R x 4C   [D, D, D, K]   \n",
      " 52  NGC_5653_spec    1 BinTableHDU     32   2284R x 4C   [D, D, D, K]   \n",
      " 53  NGC_4552_spec    1 BinTableHDU     32   2295R x 4C   [D, D, D, K]   \n",
      " 54  NGC_4254_spec    1 BinTableHDU     32   2297R x 4C   [D, D, D, K]   \n",
      " 55  NGC_7591_spec    1 BinTableHDU     32   2367R x 4C   [D, D, D, K]   \n",
      " 56  NGC_4860_spec    1 BinTableHDU     32   2901R x 4C   [D, D, D, K]   \n",
      " 57  NGC_4579_spec    1 BinTableHDU     32   2364R x 4C   [D, D, D, K]   \n",
      " 58  UGC_09618_spec    1 BinTableHDU     32   2364R x 4C   [D, D, D, K]   \n",
      " 59  Mrk_0475_spec    1 BinTableHDU     32   2298R x 4C   [D, D, D, K]   \n",
      " 60  NGC_4670_spec    1 BinTableHDU     32   2295R x 4C   [D, D, D, K]   \n",
      " 61  UGC_05101_spec    1 BinTableHDU     32   2380R x 4C   [D, D, D, K]   \n",
      " 62  Mrk_0930_spec    1 BinTableHDU     32   2295R x 4C   [D, D, D, K]   \n",
      " 63  NGC_6090_spec    1 BinTableHDU     32   2379R x 4C   [D, D, D, K]   \n",
      " 64  NGC_4387_spec    1 BinTableHDU     32   2218R x 4C   [D, D, D, K]   \n",
      " 65  NGC_7714_spec    1 BinTableHDU     32   2384R x 4C   [D, D, D, K]   \n",
      " 66  NGC_3627_spec    1 BinTableHDU     32   2298R x 4C   [D, D, D, K]   \n",
      " 67  NGC_5104_spec    1 BinTableHDU     32   2383R x 4C   [D, D, D, K]   \n",
      " 68  NGC_4621_spec    1 BinTableHDU     32   3210R x 4C   [D, D, D, K]   \n",
      " 69  Arp_256_N_spec    1 BinTableHDU     32   2266R x 4C   [D, D, D, K]   \n",
      " 70  NGC_5055_spec    1 BinTableHDU     32   2303R x 4C   [D, D, D, K]   \n",
      " 71  NGC_5258_spec    1 BinTableHDU     32   2285R x 4C   [D, D, D, K]   \n",
      " 72  NGC_5033_spec    1 BinTableHDU     32   2296R x 4C   [D, D, D, K]   \n",
      " 73  NGC_5992_spec    1 BinTableHDU     32   2379R x 4C   [D, D, D, K]   \n",
      " 74  NGC_5953_spec    1 BinTableHDU     32   2407R x 4C   [D, D, D, K]   \n",
      " 75  NGC_4625_spec    1 BinTableHDU     32   2301R x 4C   [D, D, D, K]   \n",
      " 76  NGC_3049_spec    1 BinTableHDU     32   2296R x 4C   [D, D, D, K]   \n",
      " 77  IC_0883_spec    1 BinTableHDU     32   2346R x 4C   [D, D, D, K]   \n",
      " 78  UGC_09618_N_spec    1 BinTableHDU     32   2364R x 4C   [D, D, D, K]   \n",
      " 79  NGC_0695_spec    1 BinTableHDU     32   2381R x 4C   [D, D, D, K]   \n",
      " 80  UM_461_spec    1 BinTableHDU     32   2268R x 4C   [D, D, D, K]   \n",
      " 81  NGC_5195_spec    1 BinTableHDU     32   2303R x 4C   [D, D, D, K]   \n",
      " 82  CGCG_436-030_spec    1 BinTableHDU     32   2362R x 4C   [D, D, D, K]   \n",
      " 83  Arp_256_S_spec    1 BinTableHDU     32   2352R x 4C   [D, D, D, K]   \n",
      " 84  NGC_2537_spec    1 BinTableHDU     32   2315R x 4C   [D, D, D, K]   \n",
      " 85  NGC_4826_spec    1 BinTableHDU     32   2294R x 4C   [D, D, D, K]   \n",
      " 86  UGC_08335_NW_spec    1 BinTableHDU     32   2360R x 4C   [D, D, D, K]   \n",
      " 87  NGC_2388_spec    1 BinTableHDU     32   2373R x 4C   [D, D, D, K]   \n",
      " 88  NGC_7592_spec    1 BinTableHDU     32   2349R x 4C   [D, D, D, K]   \n",
      " 89  NGC_2403_spec    1 BinTableHDU     32   2303R x 4C   [D, D, D, K]   \n",
      " 90  NGC_7331_spec    1 BinTableHDU     32   2299R x 4C   [D, D, D, K]   \n",
      " 91  UGC_06850_spec    1 BinTableHDU     32   2307R x 4C   [D, D, D, K]   \n",
      " 92  NGC_4676_A_spec    1 BinTableHDU     32   2284R x 4C   [D, D, D, K]   \n",
      " 93  NGC_4486_spec    1 BinTableHDU     32   3194R x 4C   [D, D, D, K]   \n",
      " 94  NGC_4088_spec    1 BinTableHDU     32   2297R x 4C   [D, D, D, K]   \n",
      " 95  NGC_4660_spec    1 BinTableHDU     32   3211R x 4C   [D, D, D, K]   \n",
      " 96  NGC_5256_spec    1 BinTableHDU     32   2360R x 4C   [D, D, D, K]   \n",
      " 97  NGC_3379_spec    1 BinTableHDU     32   3055R x 4C   [D, D, D, K]   \n",
      " 98  NGC_3521_spec    1 BinTableHDU     32   2252R x 4C   [D, D, D, K]   \n",
      " 99  Mrk_1490_spec    1 BinTableHDU     32   2379R x 4C   [D, D, D, K]   \n",
      "100  NGC_4138_spec    1 BinTableHDU     32   2298R x 4C   [D, D, D, K]   \n",
      "101  NGC_4365_spec    1 BinTableHDU     32   2219R x 4C   [D, D, D, K]   \n",
      "102  NGC_4321_spec    1 BinTableHDU     32   2303R x 4C   [D, D, D, K]   \n",
      "103  NGC_4631_spec    1 BinTableHDU     32   2296R x 4C   [D, D, D, K]   \n",
      "104  NGC_6240_spec    1 BinTableHDU     32   2370R x 4C   [D, D, D, K]   \n",
      "105  NGC_4536_spec    1 BinTableHDU     32   2296R x 4C   [D, D, D, K]   \n",
      "106  NGC_0750_spec    1 BinTableHDU     32   2621R x 4C   [D, D, D, K]   \n",
      "107  UGC_12150_spec    1 BinTableHDU     32   2383R x 4C   [D, D, D, K]   \n",
      "108  NGC_0474_spec    1 BinTableHDU     32   2592R x 4C   [D, D, D, K]   \n",
      "109  NGC_0584_spec    1 BinTableHDU     32   2298R x 4C   [D, D, D, K]   \n",
      "110  NGC_1614_spec    1 BinTableHDU     32   2365R x 4C   [D, D, D, K]   \n",
      "111  NGC_4194_spec    1 BinTableHDU     32   2393R x 4C   [D, D, D, K]   \n",
      "112  NGC_4926_spec    1 BinTableHDU     32   3168R x 4C   [D, D, D, K]   \n",
      "113  UGCA_219_spec    1 BinTableHDU     32   2293R x 4C   [D, D, D, K]   \n",
      "114  NGC_0660_spec    1 BinTableHDU     32   2301R x 4C   [D, D, D, K]   \n",
      "115  NGC_4559_spec    1 BinTableHDU     32   2297R x 4C   [D, D, D, K]   \n",
      "116  NGC_7674_spec    1 BinTableHDU     32   2343R x 4C   [D, D, D, K]   \n",
      "117  CGCG_453-062_spec    1 BinTableHDU     32   2383R x 4C   [D, D, D, K]   \n",
      "118  IRAS_08572+3915_spec    1 BinTableHDU     32   2360R x 4C   [D, D, D, K]   \n",
      "119  NGC_4473_spec    1 BinTableHDU     32   2461R x 4C   [D, D, D, K]   \n",
      "120  IC_0860_spec    1 BinTableHDU     32   2383R x 4C   [D, D, D, K]   \n",
      "121  IRAS_17208-0014_spec    1 BinTableHDU     32   2363R x 4C   [D, D, D, K]   \n",
      "122  UGC_08335_SE_spec    1 BinTableHDU     32   2365R x 4C   [D, D, D, K]   \n",
      "123  Mrk_1450_spec    1 BinTableHDU     32   2305R x 4C   [D, D, D, K]   \n",
      "124  NGC_4550_spec    1 BinTableHDU     32   3244R x 4C   [D, D, D, K]   \n",
      "125  UGCA_410_spec    1 BinTableHDU     32   2232R x 4C   [D, D, D, K]   \n",
      "126  NGC_7585_spec    1 BinTableHDU     32   2568R x 4C   [D, D, D, K]   \n",
      "127  Haro_06_spec    1 BinTableHDU     32   2287R x 4C   [D, D, D, K]   \n",
      "128  NGC_5194_spec    1 BinTableHDU     32   2207R x 4C   [D, D, D, K]   \n",
      "129  NGC_3870_spec    1 BinTableHDU     32   2285R x 4C   [D, D, D, K]   \n",
      "130  NGC_3773_spec    1 BinTableHDU     32   2297R x 4C   [D, D, D, K]   \n",
      "131  NGC_1068_spec    1 BinTableHDU     32   2370R x 4C   [D, D, D, K]   \n",
      "132  CGCG_049-057_spec    1 BinTableHDU     32   2416R x 4C   [D, D, D, K]   \n",
      "133  IC_4051_spec    1 BinTableHDU     32   3171R x 4C   [D, D, D, K]   \n"
     ]
    }
   ],
   "source": [
    "# We would like to read in both the galaxy dataset and the agn dataset\n",
    "# Begin my importing the the SED templates\n",
    "galsedatlas_file = os.path.join('datasets', 'Templates', 'hlsp_galsedatlas_multi_multi_all_multi_v1_cat.fits')\n",
    "#agnsedatlas_file = os.path.join('datasets', 'Templates', 'hlsp_agnsedatlas_multi_photometry_all_multi_v1_cat.fits')\n",
    "# Read in the SED templates\n",
    "galsedatlas_fits = fits.open(galsedatlas_file)\n",
    "\n",
    "# Check what the particular fits file contains - To eplore this we can use the info() method.\n",
    "galsedatlas_fits.info()"
   ]
  },
  {
   "cell_type": "code",
   "execution_count": 54,
   "metadata": {},
   "outputs": [],
   "source": [
    "# Begin by attempting to plot at least one of the SED templates\n",
    "# We can use the astSED library to plot the SED templates\n",
    "\n",
    "# Importing the best fitting filters\n",
    "# Similarly we can also read in the passbands for the UVJ colours - check this at some other time\n",
    "pb_U = os.path.join('datasets', 'filters', 'Generic_Johnson.U.dat')\n",
    "pb_V = os.path.join('datasets', 'filters', 'Generic_Johnson.V.dat')\n",
    "pb_J = os.path.join('datasets', 'filters', '2MASS_2MASS.J.dat')\n"
   ]
  },
  {
   "cell_type": "code",
   "execution_count": 21,
   "metadata": {},
   "outputs": [
    {
     "name": "stdout",
     "output_type": "stream",
     "text": [
      "53\n"
     ]
    }
   ],
   "source": []
  },
  {
   "cell_type": "code",
   "execution_count": 53,
   "metadata": {},
   "outputs": [
    {
     "name": "stdout",
     "output_type": "stream",
     "text": [
      "6\n"
     ]
    },
    {
     "data": {
      "image/png": "[encoded data removed]",
      "text/plain": [
       "<Figure size 720x432 with 1 Axes>"
      ]
     },
     "metadata": {
      "needs_background": "light"
     },
     "output_type": "display_data"
    }
   ],
   "source": [
    "n = np.random.randint(5, 134)\n",
    "print(n)\n",
    "sed_one_wavelegnth = galsedatlas_fits[n].data['observed_wavelength']\n",
    "sed_one_flux = galsedatlas_fits[n].data['flux_density']\n",
    "\n",
    "plt.figure(figsize=(10, 6))\n",
    "plt.plot(sed_one_wavelegnth, sed_one_flux, 'b')\n",
    "plt.title('Galaxy SED Template: ' + galsedatlas_fits[n].name)\n",
    "plt.xlabel('Wavelength (Angstroms)')\n",
    "plt.ylabel('Flux Density (erg/s/cm^2/Angstrom)')\n",
    "plt.xlim(0, 16000)\n",
    "plt.show()\n",
    "\n",
    "\n",
    "# We want to plot the UVJ filters over the top of the SED template\n",
    "# We can use the astSED library to plot the SED templates"
   ]
  }
 ],
 "metadata": {
  "kernelspec": {
   "display_name": "base",
   "language": "python",
   "name": "python3"
  },
  "language_info": {
   "codemirror_mode": {
    "name": "ipython",
    "version": 3
   },
   "file_extension": ".py",
   "mimetype": "text/x-python",
   "name": "python",
   "nbconvert_exporter": "python",
   "pygments_lexer": "ipython3",
   "version": "3.8.8"
  }
 },
 "nbformat": 4,
 "nbformat_minor": 2
}
