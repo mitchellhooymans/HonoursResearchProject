{
 "cells": [
  {
   "cell_type": "markdown",
   "metadata": {},
   "source": [
    "# Exploratory Work\n",
    "\n",
    "Author: Mitchell Hooymans \n",
    "\n",
    "This notebook is intended to be exploratory work into the data, SEDs, and the overall thesis topic \"Investigating the Impact of AGN on Rest-frame UV and VJ colour space\". This notebook will be one of many used to explore multiple topics within this project but will not focus on the final results of the project. "
   ]
  },
  {
   "cell_type": "code",
   "execution_count": 1,
   "metadata": {},
   "outputs": [
    {
     "ename": "",
     "evalue": "",
     "output_type": "error",
     "traceback": [
      "\u001b[1;31mThe Kernel crashed while executing code in the current cell or a previous cell. \n",
      "\u001b[1;31mPlease review the code in the cell(s) to identify a possible cause of the failure. \n",
      "\u001b[1;31mClick <a href='https://aka.ms/vscodeJupyterKernelCrash'>here</a> for more info. \n",
      "\u001b[1;31mView Jupyter <a href='command:jupyter.viewOutput'>log</a> for further details."
     ]
    }
   ],
   "source": [
    "# Import required libraries\n",
    "# Begin by Importing all of the required libraries.\n",
    "import matplotlib.pyplot as plt\n",
    "import astropy.units as u\n",
    "import numpy as np\n",
    "import pandas as pd\n",
    "import os\n",
    "from astLib import astSED\n",
    "import astropy.io.fits as fits"
   ]
  },
  {
   "cell_type": "code",
   "execution_count": null,
   "metadata": {},
   "outputs": [],
   "source": [
    "# We would like to read in both the galaxy dataset and the agn dataset\n",
    "# Begin my importing the the SED templates\n",
    "galsedatlas_file = os.path.join('datasets', 'Templates', 'hlsp_galsedatlas_multi_multi_all_multi_v1_cat.fits')\n",
    "#agnsedatlas_file = os.path.join('datasets', 'Templates', 'hlsp_agnsedatlas_multi_photometry_all_multi_v1_cat.fits')\n",
    "# Read in the SED templates\n",
    "galsedatlas_fits = fits.open(galsedatlas_file)\n",
    "\n",
    "# Check what the particular fits file contains - To eplore this we can use the info() method.\n",
    "galsedatlas_fits.info()"
   ]
  }
 ],
 "metadata": {
  "kernelspec": {
   "display_name": "base",
   "language": "python",
   "name": "python3"
  },
  "language_info": {
   "codemirror_mode": {
    "name": "ipython",
    "version": 3
   },
   "file_extension": ".py",
   "mimetype": "text/x-python",
   "name": "python",
   "nbconvert_exporter": "python",
   "pygments_lexer": "ipython3",
   "version": "3.8.8"
  }
 },
 "nbformat": 4,
 "nbformat_minor": 2
}
