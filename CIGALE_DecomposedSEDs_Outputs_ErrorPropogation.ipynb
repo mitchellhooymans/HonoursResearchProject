{
 "cells": [
  {
   "cell_type": "code",
   "execution_count": 33,
   "metadata": {},
   "outputs": [
    {
     "name": "stdout",
     "output_type": "stream",
     "text": [
      "The autoreload extension is already loaded. To reload it, use:\n",
      "  %reload_ext autoreload\n"
     ]
    }
   ],
   "source": [
    "import matplotlib.pyplot as plt\n",
    "import astropy.units as u\n",
    "import numpy as np\n",
    "import pandas as pd\n",
    "import os\n",
    "from astLib import astSED\n",
    "import astropy.io.fits as fits\n",
    "from carf import * # custom module for functions relating to the project\n",
    "import matplotlib.path as mpath\n",
    "import seaborn as sns\n",
    "from scipy.stats import gaussian_kde\n",
    "import scipy as sp\n",
    "\n",
    "# So that we can change the helper functions without reloading the kernel\n",
    "%load_ext autoreload\n",
    "%autoreload 2"
   ]
  },
  {
   "cell_type": "code",
   "execution_count": 34,
   "metadata": {},
   "outputs": [
    {
     "name": "stderr",
     "output_type": "stream",
     "text": [
      "c:\\Users\\Mitchell\\anaconda3\\lib\\site-packages\\IPython\\core\\interactiveshell.py:3165: DtypeWarning: Columns (156) have mixed types.Specify dtype option on import or set low_memory=False.\n",
      "  has_raised = await self.run_ast_nodes(code_ast.body, cell_name,\n"
     ]
    }
   ],
   "source": [
    "# We need to ensure we are reading in our final dataframe we will be doing our analysis on. This dataframe should contain\n",
    "zfourge_full = pd.read_csv('datasets/full_zfourge_decomposed/zfourge_full.csv')"
   ]
  },
  {
   "cell_type": "code",
   "execution_count": null,
   "metadata": {},
   "outputs": [],
   "source": []
  },
  {
   "cell_type": "code",
   "execution_count": 35,
   "metadata": {},
   "outputs": [
    {
     "data": {
      "image/png": "[encoded data removed]",
      "text/plain": [
       "<Figure size 432x288 with 1 Axes>"
      ]
     },
     "metadata": {
      "needs_background": "light"
     },
     "output_type": "display_data"
    },
    {
     "data": {
      "image/png": "[encoded data removed]",
      "text/plain": [
       "<Figure size 432x288 with 1 Axes>"
      ]
     },
     "metadata": {
      "needs_background": "light"
     },
     "output_type": "display_data"
    },
    {
     "data": {
      "text/plain": [
       "<AxesSubplot:>"
      ]
     },
     "execution_count": 35,
     "metadata": {},
     "output_type": "execute_result"
    }
   ],
   "source": [
    "# Loook for the uvj errors\n",
    "# zfourge_full['eU']\n",
    "# zfourge_full['eV']\n",
    "# zfourge_full['eJ']\n",
    "# This is good cause it's not yet in magnitude, it's a flux value\n",
    "((zfourge_full['eU']/zfourge_full['U'])*100).hist(bins=100)\n",
    "plt.show()\n",
    "\n",
    "((zfourge_full['eV']/zfourge_full['V'])*100).hist(bins=100)\n",
    "plt.show()\n",
    "\n",
    "((zfourge_full['eJ']/zfourge_full['J'])*100).hist(bins=100)\n"
   ]
  },
  {
   "cell_type": "code",
   "execution_count": 36,
   "metadata": {},
   "outputs": [],
   "source": [
    "# create a flux to mag function\n",
    "def flux_to_mag(flux):\n",
    "    return -2.5*np.log10(flux) + 25\n",
    "\n",
    "# create a flux to mag error function\n",
    "def flux_to_mag_error(flux, error):\n",
    "    return np.abs(-2.5*(error/flux)/np.log(10))"
   ]
  },
  {
   "cell_type": "code",
   "execution_count": 37,
   "metadata": {},
   "outputs": [
    {
     "data": {
      "text/plain": [
       "<AxesSubplot:>"
      ]
     },
     "execution_count": 37,
     "metadata": {},
     "output_type": "execute_result"
    }
   ],
   "source": [
    "# flux to magnitude\n",
    "# Calculate the magnitude\n",
    "zfourge_full['Umag'] = flux_to_mag(zfourge_full['U'])\n",
    "zfourge_full['Vmag'] = flux_to_mag(zfourge_full['V'])\n",
    "zfourge_full['Jmag'] = flux_to_mag(zfourge_full['J'])\n",
    "\n",
    "# Calculate the error in the magnitude\n",
    "zfourge_full['eUmag'] = flux_to_mag_error(zfourge_full['U'], zfourge_full['eU'])\n",
    "zfourge_full['eVmag'] = flux_to_mag_error(zfourge_full['V'],zfourge_full['eV'])\n",
    "zfourge_full['eJmag'] = flux_to_mag_error(zfourge_full['J'], zfourge_full['eJ'])\n",
    "\n",
    "\n",
    "# Print the magnitudes and the errors with a sentence\n",
    "# calculated\n",
    "# Show the errors\n",
    "(zfourge_full['eUmag']/zfourge_full['Umag']).hist(bins=100)\n",
    "\n"
   ]
  },
  {
   "cell_type": "code",
   "execution_count": 38,
   "metadata": {},
   "outputs": [
    {
     "data": {
      "text/plain": [
       "0.0008140420747957814"
      ]
     },
     "execution_count": 38,
     "metadata": {},
     "output_type": "execute_result"
    }
   ],
   "source": [
    "# Test galaxy\n",
    "zfourge_full.iloc[0]\n",
    "zfourge_full.iloc[4]['eUmag']\n",
    "# /zfourge_full.iloc[0]['Umag']\n",
    "\n",
    "# vs\n",
    "#zfourge_full.iloc[0]['eU']/zfourge_full.iloc[0]['U']\n"
   ]
  },
  {
   "cell_type": "code",
   "execution_count": 40,
   "metadata": {},
   "outputs": [
    {
     "data": {
      "image/png": "[encoded data removed]",
      "text/plain": [
       "<Figure size 432x288 with 1 Axes>"
      ]
     },
     "metadata": {
      "needs_background": "light"
     },
     "output_type": "display_data"
    }
   ],
   "source": [
    "\n",
    "\n",
    "plt.show()\n"
   ]
  },
  {
   "cell_type": "code",
   "execution_count": null,
   "metadata": {},
   "outputs": [],
   "source": []
  }
 ],
 "metadata": {
  "kernelspec": {
   "display_name": "base",
   "language": "python",
   "name": "python3"
  },
  "language_info": {
   "codemirror_mode": {
    "name": "ipython",
    "version": 3
   },
   "file_extension": ".py",
   "mimetype": "text/x-python",
   "name": "python",
   "nbconvert_exporter": "python",
   "pygments_lexer": "ipython3",
   "version": "3.8.8"
  }
 },
 "nbformat": 4,
 "nbformat_minor": 2
}
