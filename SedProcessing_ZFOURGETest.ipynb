{
 "cells": [
  {
   "cell_type": "markdown",
   "metadata": {},
   "source": [
    "# ZFOURGE SED Template Processing \n",
    "Using the generated ZFOURGE SED templates from the cdfs field, we explore how these SEDs will react in the UVJ colour space to see if the UVJ coordinates are still in the sample place.\n"
   ]
  },
  {
   "cell_type": "code",
   "execution_count": 551,
   "metadata": {},
   "outputs": [
    {
     "name": "stdout",
     "output_type": "stream",
     "text": [
      "The autoreload extension is already loaded. To reload it, use:\n",
      "  %reload_ext autoreload\n"
     ]
    }
   ],
   "source": [
    "import matplotlib.pyplot as plt\n",
    "import astropy.units as u\n",
    "import numpy as np\n",
    "import pandas as pd\n",
    "import os\n",
    "from astLib import astSED\n",
    "import astropy.io.fits as fits\n",
    "from carf import * # custom module for functions relating to the project\n",
    "import matplotlib.path as mpath\n",
    "\n",
    "\n",
    "# So that we can change the helper functions without reloading the kernel\n",
    "%load_ext autoreload\n",
    "%autoreload 2"
   ]
  },
  {
   "cell_type": "code",
   "execution_count": null,
   "metadata": {},
   "outputs": [],
   "source": []
  },
  {
   "cell_type": "code",
   "execution_count": 552,
   "metadata": {},
   "outputs": [],
   "source": [
    "\n",
    "# We are attempting to read in a new set of SEDs that have been generated using a variation of Michael's ZFOURGE SED processing code.\n",
    "# the SEDs are in the form of csvs, this can be explored in the zfourge/seds\n",
    "# directory. The csvs are in the form of:\n",
    "# Wavelength (microns), Flux Density (10^-19erg_s_cm^2_Angstrom)\n",
    "\n",
    "zfourge_folderpath = os.path.join('Eazy Template Extractions', 'zfourgeSEDs')\n",
    "# We would like to create a function to read this in\n",
    "def read_zfourge_template(folder_path, name):\n",
    "    \"\"\"_summary_\n",
    "\n",
    "    Args:\n",
    "        folder_path (string): path to the folder where the SED templates are located\n",
    "        name (string): name of the object\n",
    "    \n",
    "    Returns:\n",
    "        df: Returns a dataframe containing the SED template\n",
    "        objname: Returns the name of the object\n",
    "    \"\"\"\n",
    "    folder_path = os.path.join(folder_path)\n",
    "    files_in_folder = os.listdir(folder_path)\n",
    "\n",
    "    for file in files_in_folder:\n",
    "        # Find filepath and convert to df\n",
    "        \n",
    "        # get rid of units in the filename\n",
    "        objname = file.split('_units')[0]\n",
    "        objname = objname.split('_')[1]\n",
    "        if objname == name:\n",
    "            filepath = os.path.join(folder_path, file)\n",
    "            df = pd.read_csv(filepath)\n",
    "            \n",
    "            print(df)\n",
    "            # our wavelength is in microns, convert to Angstroms\n",
    "            \n",
    "            # for the first column, we want to convert to Angstroms\n",
    "            df.iloc[:, 0] = df.iloc[:, 0] \n",
    "            # Name each of the columns appropriately\n",
    "            df.columns = ['lambda (Angstroms)', 'Total Flux (erg/s/cm^2/Angstrom)']\n",
    "            print(objname)\n",
    "            return df, objname\n",
    "        \n",
    "    \n",
    "    return None, None\n",
    "\n",
    "df, objname = read_zfourge_template(zfourge_folderpath, '7544')"
   ]
  },
  {
   "cell_type": "code",
   "execution_count": 596,
   "metadata": {},
   "outputs": [],
   "source": [
    "    \n",
    "def read_zfourge_galaxy_templates(folder_path):\n",
    "    \"\"\"_summary_\n",
    "\n",
    "        Args:\n",
    "            folder_path (string): path to the folder where the SED templates are located\n",
    "    \n",
    "        Returns:\n",
    "            df_list: Returns a list of dataframes containing the SED templates\n",
    "            objname_list: Returns a list of the names of the objects\n",
    "    \"\"\"\n",
    "    df_list = []\n",
    "    objname_list = []\n",
    "    folder_path = os.path.join(folder_path)\n",
    "    files_in_folder = os.listdir(folder_path)\n",
    "    i = 0\n",
    "    \n",
    "    for file in files_in_folder:\n",
    "\n",
    "        # Find filepath and convert to df\n",
    "        objname = file.split('_units')[0]\n",
    "        objname = objname.split('_')[1]\n",
    "        filepath = os.path.join(folder_path, file)\n",
    "        df = pd.read_csv(filepath)\n",
    "        \n",
    "        \n",
    "        # check for infinities or null values and replace \n",
    "        if np.any(np.isnan(df)):\n",
    "            df = df.replace([np.inf, -np.inf], np.nan)\n",
    "        if np.any(np.isinf(df) ):\n",
    "            df = df.replace([np.inf, -np.inf], np.nan)\n",
    "        \n",
    "        \n",
    "        # Whereever there are NaN values, interpolate\n",
    "        df = df.interpolate()\n",
    "        \n",
    "        # Convert microns to angstroms    \n",
    "        df.iloc[:, 0] = df.iloc[:, 0]\n",
    "        \n",
    "        # name each of the columns appropriately\n",
    "        df.columns = ['lambda (Angstroms)', 'Total Flux (erg/s/cm^2/Angstrom)']\n",
    "            \n",
    "        # Append the dataframe to the list    \n",
    "        df_list.append(df)\n",
    "        objname_list.append(objname)\n",
    "        \n",
    "        \n",
    "    return df_list, objname_list\n"
   ]
  },
  {
   "cell_type": "code",
   "execution_count": 597,
   "metadata": {},
   "outputs": [],
   "source": [
    "# Filters\n",
    "pb_U_path = os.path.join('datasets', 'Filters', 'Generic_Johnson.U.dat')\n",
    "pb_V_path = os.path.join('datasets', 'Filters', 'Generic_Johnson.V.dat')\n",
    "pb_J_path = os.path.join('datasets', 'Filters', '2MASS_2MASS.J.dat')\n",
    "\n",
    "# Skirtor models\n",
    "skirtor_folderpath = os.path.join('datasets', 'Templates', 'Skirtor')"
   ]
  },
  {
   "cell_type": "code",
   "execution_count": 598,
   "metadata": {},
   "outputs": [],
   "source": [
    "# In addition also use astSED to create filters\n",
    "pb_U = astSED.Passband(pb_U_path, normalise=False)\n",
    "pb_V = astSED.Passband(pb_V_path, normalise=False)\n",
    "pb_J = astSED.Passband(pb_J_path, normalise=False)\n",
    "\n"
   ]
  },
  {
   "cell_type": "code",
   "execution_count": 599,
   "metadata": {},
   "outputs": [],
   "source": [
    "# For plotting\n",
    "# convert the passbands to arrays\n",
    "U_arr = np.array(pb_U.asList())\n",
    "V_arr = np.array(pb_V.asList())\n",
    "J_arr = np.array(pb_J.asList())"
   ]
  },
  {
   "cell_type": "code",
   "execution_count": 600,
   "metadata": {},
   "outputs": [],
   "source": [
    "# Read in all the ZFOURGE templates\n",
    "df_list, objname_list = read_zfourge_galaxy_templates(zfourge_folderpath)"
   ]
  },
  {
   "cell_type": "code",
   "execution_count": 601,
   "metadata": {},
   "outputs": [
    {
     "name": "stdout",
     "output_type": "stream",
     "text": [
      "26789\n",
      "Number of NaN values in the dataframe:  0\n"
     ]
    }
   ],
   "source": [
    "print(objname_list[2])\n",
    "\n",
    "# count and print na\n",
    "print(\"Number of NaN values in the dataframe: \", df_list[0].isna().sum().sum())"
   ]
  },
  {
   "cell_type": "code",
   "execution_count": null,
   "metadata": {},
   "outputs": [],
   "source": []
  },
  {
   "cell_type": "code",
   "execution_count": 602,
   "metadata": {},
   "outputs": [
    {
     "name": "stdout",
     "output_type": "stream",
     "text": [
      "Number of NaN values in the dataframe:  0\n"
     ]
    }
   ],
   "source": [
    "\n",
    "# we know where the NaN values are and we know what values come before and after\n",
    "# so we can interpolate the values\n",
    "df_list[0] = df_list[0]\n",
    "print(\"Number of NaN values in the dataframe: \", df_list[0].isna().sum().sum())"
   ]
  },
  {
   "cell_type": "code",
   "execution_count": 603,
   "metadata": {},
   "outputs": [
    {
     "data": {
      "text/html": [
       "<div>\n",
       "<style scoped>\n",
       "    .dataframe tbody tr th:only-of-type {\n",
       "        vertical-align: middle;\n",
       "    }\n",
       "\n",
       "    .dataframe tbody tr th {\n",
       "        vertical-align: top;\n",
       "    }\n",
       "\n",
       "    .dataframe thead th {\n",
       "        text-align: right;\n",
       "    }\n",
       "</style>\n",
       "<table border=\"1\" class=\"dataframe\">\n",
       "  <thead>\n",
       "    <tr style=\"text-align: right;\">\n",
       "      <th></th>\n",
       "      <th>lambda (Angstroms)</th>\n",
       "      <th>Total Flux (erg/s/cm^2/Angstrom)</th>\n",
       "    </tr>\n",
       "  </thead>\n",
       "  <tbody>\n",
       "    <tr>\n",
       "      <th>2000</th>\n",
       "      <td>6568.4194</td>\n",
       "      <td>7.704046</td>\n",
       "    </tr>\n",
       "    <tr>\n",
       "      <th>2001</th>\n",
       "      <td>6568.8203</td>\n",
       "      <td>7.701735</td>\n",
       "    </tr>\n",
       "    <tr>\n",
       "      <th>2002</th>\n",
       "      <td>6569.2110</td>\n",
       "      <td>7.699425</td>\n",
       "    </tr>\n",
       "    <tr>\n",
       "      <th>2003</th>\n",
       "      <td>6569.6016</td>\n",
       "      <td>7.697115</td>\n",
       "    </tr>\n",
       "    <tr>\n",
       "      <th>2004</th>\n",
       "      <td>6570.0020</td>\n",
       "      <td>7.694804</td>\n",
       "    </tr>\n",
       "    <tr>\n",
       "      <th>2005</th>\n",
       "      <td>6570.3920</td>\n",
       "      <td>7.692494</td>\n",
       "    </tr>\n",
       "    <tr>\n",
       "      <th>2006</th>\n",
       "      <td>6570.7925</td>\n",
       "      <td>7.690183</td>\n",
       "    </tr>\n",
       "    <tr>\n",
       "      <th>2007</th>\n",
       "      <td>6571.1836</td>\n",
       "      <td>7.687873</td>\n",
       "    </tr>\n",
       "    <tr>\n",
       "      <th>2008</th>\n",
       "      <td>6571.5737</td>\n",
       "      <td>7.685563</td>\n",
       "    </tr>\n",
       "    <tr>\n",
       "      <th>2009</th>\n",
       "      <td>6571.9740</td>\n",
       "      <td>7.683252</td>\n",
       "    </tr>\n",
       "    <tr>\n",
       "      <th>2010</th>\n",
       "      <td>6572.3650</td>\n",
       "      <td>7.680942</td>\n",
       "    </tr>\n",
       "    <tr>\n",
       "      <th>2011</th>\n",
       "      <td>6572.7554</td>\n",
       "      <td>7.678631</td>\n",
       "    </tr>\n",
       "    <tr>\n",
       "      <th>2012</th>\n",
       "      <td>6573.1562</td>\n",
       "      <td>7.676321</td>\n",
       "    </tr>\n",
       "    <tr>\n",
       "      <th>2013</th>\n",
       "      <td>6573.5460</td>\n",
       "      <td>7.674011</td>\n",
       "    </tr>\n",
       "    <tr>\n",
       "      <th>2014</th>\n",
       "      <td>6573.9463</td>\n",
       "      <td>7.671700</td>\n",
       "    </tr>\n",
       "  </tbody>\n",
       "</table>\n",
       "</div>"
      ],
      "text/plain": [
       "      lambda (Angstroms)  Total Flux (erg/s/cm^2/Angstrom)\n",
       "2000           6568.4194                          7.704046\n",
       "2001           6568.8203                          7.701735\n",
       "2002           6569.2110                          7.699425\n",
       "2003           6569.6016                          7.697115\n",
       "2004           6570.0020                          7.694804\n",
       "2005           6570.3920                          7.692494\n",
       "2006           6570.7925                          7.690183\n",
       "2007           6571.1836                          7.687873\n",
       "2008           6571.5737                          7.685563\n",
       "2009           6571.9740                          7.683252\n",
       "2010           6572.3650                          7.680942\n",
       "2011           6572.7554                          7.678631\n",
       "2012           6573.1562                          7.676321\n",
       "2013           6573.5460                          7.674011\n",
       "2014           6573.9463                          7.671700"
      ]
     },
     "execution_count": 603,
     "metadata": {},
     "output_type": "execute_result"
    }
   ],
   "source": [
    "df_list[0][2000:2015]\n"
   ]
  },
  {
   "cell_type": "code",
   "execution_count": 604,
   "metadata": {},
   "outputs": [
    {
     "data": {
      "image/png": "[encoded data removed]",
      "text/plain": [
       "<Figure size 720x720 with 1 Axes>"
      ]
     },
     "metadata": {
      "needs_background": "light"
     },
     "output_type": "display_data"
    }
   ],
   "source": [
    "# Plot all of the SEDS\n",
    "\n",
    "# for each sed, cut it so the wavelength is between 10^2 and 10^5\n",
    "# then plot it\n",
    "#for i in range(len(df_list)):\n",
    "   # df_list[i] = df_list[i][(df_list[i]['lambda (Angstroms)'] > 10**2) & (df_list[i]['lambda (Angstroms)'] < 10**5)]\n",
    "\n",
    "\n",
    "plt.figure(figsize=(10, 10))\n",
    "for i in range(len(df_list)):\n",
    "    plt.loglog(df_list[i].iloc[:, 0], df_list[i].iloc[:, 1], label=objname_list[i], marker='o', markersize=1)\n",
    "#plt.legend()\n",
    "plt.xlabel('Wavelength (Angstroms)')\n",
    "plt.ylabel('Total Flux (erg/s/cm^2/Angstrom)')\n",
    "plt.title('ZFOURGE SED Templates')\n",
    "sc = 10**-3\n",
    "# additionally plot the relatively locations of the filters\n",
    "plt.loglog(U_arr[:, 0], sc*U_arr[:,1], label='U filter', c='purple')\n",
    "plt.loglog(V_arr[:, 0], sc*V_arr[:,1], label='V filter', c='olive')\n",
    "plt.loglog(J_arr[:, 0], sc*J_arr[:,1], label='J filter', c='red')\n",
    "\n",
    "plt.ylim(10**-4, 10**3)\n",
    "\n",
    "plt.legend()\n",
    "\n",
    "plt.show()\n",
    "\n",
    "\n"
   ]
  },
  {
   "cell_type": "markdown",
   "metadata": {},
   "source": [
    "We can see a very very clear trend of the seds now being alligned in their rest frame. The lyman break is clearly visible and the absorption and emission lines are also very clear. This is a very good sign that the SEDs are being generated correctly."
   ]
  },
  {
   "cell_type": "code",
   "execution_count": 605,
   "metadata": {},
   "outputs": [
    {
     "name": "stdout",
     "output_type": "stream",
     "text": [
      "      lambda (Angstroms)  Total Flux (erg/s/cm^2/Angstrom)\n",
      "0           9.111319e+01                      1.201676e-03\n",
      "1           9.120108e+01                      1.201069e-03\n",
      "2           9.411692e+01                      1.180927e-03\n",
      "3           9.611941e+01                      1.191333e-03\n",
      "4           9.812190e+01                      1.193698e-03\n",
      "...                  ...                               ...\n",
      "2915        1.201493e+06                      4.944719e-07\n",
      "2916        1.258925e+06                      4.550188e-07\n",
      "2917        1.401741e+06                      3.569122e-07\n",
      "2918        1.445440e+06                      3.382190e-07\n",
      "2919        1.601990e+06                      2.712501e-07\n",
      "\n",
      "[2920 rows x 2 columns]\n"
     ]
    }
   ],
   "source": [
    "# We now have some SED's that can be put through my fitting code to see how the UVJ diagram looks,\n",
    "# and to see if it behaves as expected\n",
    "\n",
    "# We will need to convert the SEDs to a format that can be used by the fitting code\n",
    "# We can attempt to use the composite code, without the need for the SED fitting code\n",
    "uv_colours = []\n",
    "vj_colours = []\n",
    "\n",
    "# for better coverage, create an AGN SED, combine them at 0% and have a look\n",
    "agn_df, params = create_type1_skirtor_agn(skirtor_folderpath)\n",
    "\n",
    "\n",
    "# alpha list\n",
    "alpha_list = np.linspace(0, 1, 11)\n",
    "\n",
    "#print(df_list[0])\n",
    "# create a composite set\n",
    "composite_df = create_composite_sed(agn_df, df_list[0], 0) # This is just for one, with no agn juice added\n",
    "print(composite_df)\n",
    "\n",
    "alpha_list = [0]\n",
    "\n",
    "# Try now with a composite stack of seds\n",
    "#df_list = generate_composite_set(agn_df, df_list, alpha_list)\n",
    "\n"
   ]
  },
  {
   "cell_type": "code",
   "execution_count": 606,
   "metadata": {},
   "outputs": [],
   "source": [
    "#df_list = df_list[0]"
   ]
  },
  {
   "cell_type": "code",
   "execution_count": 607,
   "metadata": {},
   "outputs": [
    {
     "data": {
      "image/png": "[encoded data removed]",
      "text/plain": [
       "<Figure size 720x720 with 1 Axes>"
      ]
     },
     "metadata": {
      "needs_background": "light"
     },
     "output_type": "display_data"
    }
   ],
   "source": [
    "\n",
    "# Plot this\n",
    "plt.figure(figsize=(10, 10))\n",
    "#plt.loglog(composite_df.iloc[:, 0], composite_df.iloc[:, 1], label='Composite', marker='o', markersize=1)\n",
    "# Plot agn normalized seds from the df_list\n",
    "for i in range(0, len(df_list)):\n",
    "    plt.loglog(df_list[i].iloc[:, 0], df_list[i].iloc[:, 1], label=objname_list[i], marker='o', markersize=1)\n",
    "\n",
    "\n",
    "plt.xlabel('Wavelength (Angstroms)')\n",
    "plt.ylabel('Total Flux (erg/s/cm^2/Angstrom)')\n",
    "plt.title('Composite SED')\n",
    "plt.legend()\n",
    "plt.show()\n"
   ]
  },
  {
   "cell_type": "code",
   "execution_count": 612,
   "metadata": {},
   "outputs": [
    {
     "name": "stdout",
     "output_type": "stream",
     "text": [
      "3\n",
      "Bad SED\n",
      "13592\n",
      "Bad SED\n",
      "26789\n"
     ]
    }
   ],
   "source": [
    "uv_colours = []\n",
    "vj_colours = []\n",
    "bad_entries = []\n",
    "new_objname_list = []\n",
    "print(len(df_list))\n",
    "for i, sed_data in enumerate(df_list):\n",
    "    # Create an SED object using astSED    \n",
    "    wl = sed_data['lambda (Angstroms)']\n",
    "    fl = sed_data['Total Flux (erg/s/cm^2/Angstrom)']\n",
    "\n",
    "    # We are using a restframe SED, so z = 0 - now atleast\n",
    "    sed = astSED.SED(wavelength=wl, flux=fl, z=0.0)    \n",
    "    \n",
    "    \n",
    "\n",
    "\n",
    "    # # Try to calc uvj, if math domain error occurs, if bad SED, delete it\n",
    "    # uv = astSED.SED.calcColour(sed, pb_U, pb_V, magType='AB')\n",
    "    # vj = astSED.SED.calcColour(sed, pb_V, pb_J, magType='AB')\n",
    "    # uv_colours.append(uv)\n",
    "    # vj_colours.append(vj)\n",
    "    \n",
    "    # We assume there will be some bad SEDs\n",
    "    # Try to create UVJ colours, and if it fails, remove the SED\n",
    "    # we expect a math domain error\n",
    "    \n",
    "    try:\n",
    "        #uv = astSED.SED.calcColour(sed, pb_U, pb_V, magType='AB')\n",
    "        #vj = astSED.SED.calcColour(sed, pb_V, pb_J, magType='AB')\n",
    "        \n",
    "        # Try calculate the u mag and the v mag and the j mag seperately as fluxes\n",
    "        # flux\n",
    "        u_mag = astSED.SED.calcMag(sed, pb_U, magType='VEGA')\n",
    "        v_mag = astSED.SED.calcMag(sed, pb_V, magType='VEGA')\n",
    "        j_mag = astSED.SED.calcMag(sed, pb_J, magType='VEGA')\n",
    "        \n",
    "        uv = u_mag - v_mag\n",
    "        vj = v_mag - j_mag\n",
    "        \n",
    "        uv_colours.append(uv)\n",
    "        vj_colours.append(vj)\n",
    "        new_objname_list.append(objname_list[i])\n",
    "    except:\n",
    "        print('Bad SED')\n",
    "        print(objname_list[i])\n",
    "        bad_entries.append(i)\n",
    "        del df_list[i]\n",
    "        del objname_list[i]\n",
    "        \n",
    "        continue\n",
    "    \n",
    "\n"
   ]
  },
  {
   "cell_type": "code",
   "execution_count": 609,
   "metadata": {},
   "outputs": [],
   "source": [
    "# create a dataframe with the IDs, UV and VJ colours\n",
    "uv_vj_df = pd.DataFrame({'ID': new_objname_list, 'UV': uv_colours, 'VJ': vj_colours})"
   ]
  },
  {
   "cell_type": "code",
   "execution_count": 610,
   "metadata": {},
   "outputs": [
    {
     "data": {
      "text/html": [
       "<div>\n",
       "<style scoped>\n",
       "    .dataframe tbody tr th:only-of-type {\n",
       "        vertical-align: middle;\n",
       "    }\n",
       "\n",
       "    .dataframe tbody tr th {\n",
       "        vertical-align: top;\n",
       "    }\n",
       "\n",
       "    .dataframe thead th {\n",
       "        text-align: right;\n",
       "    }\n",
       "</style>\n",
       "<table border=\"1\" class=\"dataframe\">\n",
       "  <thead>\n",
       "    <tr style=\"text-align: right;\">\n",
       "      <th></th>\n",
       "      <th>ID</th>\n",
       "      <th>UV</th>\n",
       "      <th>VJ</th>\n",
       "    </tr>\n",
       "  </thead>\n",
       "  <tbody>\n",
       "    <tr>\n",
       "      <th>0</th>\n",
       "      <td>13592</td>\n",
       "      <td>1.720526</td>\n",
       "      <td>1.448883</td>\n",
       "    </tr>\n",
       "    <tr>\n",
       "      <th>1</th>\n",
       "      <td>15181</td>\n",
       "      <td>1.246358</td>\n",
       "      <td>1.383682</td>\n",
       "    </tr>\n",
       "    <tr>\n",
       "      <th>2</th>\n",
       "      <td>26789</td>\n",
       "      <td>0.835650</td>\n",
       "      <td>0.428004</td>\n",
       "    </tr>\n",
       "  </tbody>\n",
       "</table>\n",
       "</div>"
      ],
      "text/plain": [
       "      ID        UV        VJ\n",
       "0  13592  1.720526  1.448883\n",
       "1  15181  1.246358  1.383682\n",
       "2  26789  0.835650  0.428004"
      ]
     },
     "execution_count": 610,
     "metadata": {},
     "output_type": "execute_result"
    }
   ],
   "source": [
    "uv_vj_df"
   ]
  },
  {
   "cell_type": "code",
   "execution_count": 611,
   "metadata": {},
   "outputs": [
    {
     "data": {
      "image/png": "[encoded data removed]",
      "text/plain": [
       "<Figure size 720x720 with 1 Axes>"
      ]
     },
     "metadata": {
      "needs_background": "light"
     },
     "output_type": "display_data"
    }
   ],
   "source": [
    "# Now we can plot these in UVJ space, including their relevant labels, and UV/VJ positions\n",
    "from adjustText import adjust_text\n",
    "\n",
    "plt.figure(figsize=(10, 10))\n",
    "\n",
    "plt.scatter(vj_colours, uv_colours, c='r', s=10)\n",
    "\n",
    "annotations = []\n",
    "\n",
    "# Annotate points with text and adjust for collisions\n",
    "texts = []\n",
    "for i, txt in enumerate(new_objname_list):\n",
    "    txt = f\"{txt}\" #({vj_colours[i]:.2f}, {uv_colours[i]:.2f})\"\n",
    "    texts.append(plt.text(vj_colours[i], uv_colours[i], txt, ha='center'))\n",
    "\n",
    "# Adjust text to avoid collisions\n",
    "#adjust_text(texts)\n",
    "\n",
    "plt.ylabel('U - V')\n",
    "plt.xlabel('V - J')\n",
    "plt.title(\"Restframe UVJ Colours of AGN Composites\")\n",
    "plt.xlim([-0.5, 2.2])\n",
    "plt.ylim([0, 2.5])\n",
    "\n",
    "# Define paths for selections\n",
    "path_quiescent = [[-0.5, 1.3], [0.85, 1.3], [1.6, 1.95], [1.6, 2.5], [-0.5, 2.5]]\n",
    "path_sf = [[-0.5, 0.0], [-0.5, 1.3], [0.85, 1.3], [1.2, 1.60333], [1.2, 0.0]]\n",
    "path_sfd = [[1.2, 0.0], [1.2, 1.60333], [1.6, 1.95], [1.6, 2.5], [2.2, 2.5], [2.2, 0.0]]\n",
    "\n",
    "# Add patches for selections\n",
    "plt.gca().add_patch(plt.Polygon(path_quiescent, closed=True, fill=True, facecolor=(1, 0, 0, 0.03), edgecolor='k', linewidth=2, linestyle='solid'))\n",
    "plt.gca().add_patch(plt.Polygon(path_sf, closed=True, fill=True, facecolor=(0, 0, 1, 0.03)))\n",
    "plt.gca().add_patch(plt.Polygon(path_sfd, closed=True, fill=True, facecolor=(1, 1, 0, 0.03)))\n",
    "\n",
    "# Add vertical line\n",
    "plt.axvline(1.2, color='black', linestyle='--', ymin=0, ymax=1.60333/2.5)\n",
    "\n",
    "# output the plot, and save it\n",
    "plt.savefig('outputs/UVJPlots/RecalculatedUVJ_Positions.png')\n",
    "\n",
    "plt.show()\n",
    "\n"
   ]
  },
  {
   "cell_type": "code",
   "execution_count": null,
   "metadata": {},
   "outputs": [],
   "source": [
    "# # Now we can plot these in UVJ space, including their relevant labels, and UV/VJ positions\n",
    "\n",
    "# plt.figure(figsize=(10, 10))\n",
    "\n",
    "# plt.scatter(vj_colours, uv_colours, c='r', s=10)\n",
    "\n",
    "# # Adjust text to avoid collisions\n",
    "# adjust_text(texts)\n",
    "\n",
    "# plt.ylabel('U - V')\n",
    "# plt.xlabel('V - J')\n",
    "# plt.title(\"Restframe UVJ Colours of AGN Composites\")\n",
    "# plt.xlim([-0.5, 2.2])\n",
    "# plt.ylim([0, 2.5])\n",
    "\n",
    "# # Define paths for selections\n",
    "# path_quiescent = [[-0.5, 1.3], [0.85, 1.3], [1.6, 1.95], [1.6, 2.5], [-0.5, 2.5]]\n",
    "# path_sf = [[-0.5, 0.0], [-0.5, 1.3], [0.85, 1.3], [1.2, 1.60333], [1.2, 0.0]]\n",
    "# path_sfd = [[1.2, 0.0], [1.2, 1.60333], [1.6, 1.95], [1.6, 2.5], [2.2, 2.5], [2.2, 0.0]]\n",
    "\n",
    "# # Add patches for selections\n",
    "# plt.gca().add_patch(plt.Polygon(path_quiescent, closed=True, fill=True, facecolor=(1, 0, 0, 0.03), edgecolor='k', linewidth=2, linestyle='solid'))\n",
    "# plt.gca().add_patch(plt.Polygon(path_sf, closed=True, fill=True, facecolor=(0, 0, 1, 0.03)))\n",
    "# plt.gca().add_patch(plt.Polygon(path_sfd, closed=True, fill=True, facecolor=(1, 1, 0, 0.03)))\n",
    "\n",
    "# # Add vertical line\n",
    "# plt.axvline(1.2, color='black', linestyle='--', ymin=0, ymax=1.60333/2.5)\n",
    "\n",
    "\n",
    "# plt.show()"
   ]
  },
  {
   "cell_type": "code",
   "execution_count": null,
   "metadata": {},
   "outputs": [],
   "source": []
  },
  {
   "cell_type": "code",
   "execution_count": null,
   "metadata": {},
   "outputs": [
    {
     "data": {
      "text/html": [
       "<div>\n",
       "<style scoped>\n",
       "    .dataframe tbody tr th:only-of-type {\n",
       "        vertical-align: middle;\n",
       "    }\n",
       "\n",
       "    .dataframe tbody tr th {\n",
       "        vertical-align: top;\n",
       "    }\n",
       "\n",
       "    .dataframe thead th {\n",
       "        text-align: right;\n",
       "    }\n",
       "</style>\n",
       "<table border=\"1\" class=\"dataframe\">\n",
       "  <thead>\n",
       "    <tr style=\"text-align: right;\">\n",
       "      <th></th>\n",
       "      <th>ID</th>\n",
       "      <th>UV</th>\n",
       "      <th>VJ</th>\n",
       "    </tr>\n",
       "  </thead>\n",
       "  <tbody>\n",
       "    <tr>\n",
       "      <th>0</th>\n",
       "      <td>13592</td>\n",
       "      <td>1.720526</td>\n",
       "      <td>1.448883</td>\n",
       "    </tr>\n",
       "    <tr>\n",
       "      <th>1</th>\n",
       "      <td>15181</td>\n",
       "      <td>NaN</td>\n",
       "      <td>NaN</td>\n",
       "    </tr>\n",
       "    <tr>\n",
       "      <th>2</th>\n",
       "      <td>26789</td>\n",
       "      <td>NaN</td>\n",
       "      <td>NaN</td>\n",
       "    </tr>\n",
       "  </tbody>\n",
       "</table>\n",
       "</div>"
      ],
      "text/plain": [
       "      ID        UV        VJ\n",
       "0  13592  1.720526  1.448883\n",
       "1  15181       NaN       NaN\n",
       "2  26789       NaN       NaN"
      ]
     },
     "execution_count": 538,
     "metadata": {},
     "output_type": "execute_result"
    }
   ],
   "source": [
    "\n",
    "df = uv_vj_df\n",
    "df\n"
   ]
  },
  {
   "cell_type": "code",
   "execution_count": null,
   "metadata": {},
   "outputs": [
    {
     "name": "stderr",
     "output_type": "stream",
     "text": [
      "WARNING:root:Looks like you are using an old matplotlib version.\n",
      "               In some cases adjust_text might fail, if possible update\n",
      "               matplotlib to version >=3.5.0\n",
      "WARNING:matplotlib.text:posx and posy should be finite values\n",
      "WARNING:matplotlib.text:posx and posy should be finite values\n",
      "WARNING:matplotlib.text:posx and posy should be finite values\n",
      "WARNING:matplotlib.text:posx and posy should be finite values\n",
      "WARNING:matplotlib.text:posx and posy should be finite values\n",
      "WARNING:matplotlib.text:posx and posy should be finite values\n"
     ]
    },
    {
     "name": "stdout",
     "output_type": "stream",
     "text": [
      "Empty DataFrame\n",
      "Columns: [ID, UV, VJ]\n",
      "Index: []\n",
      "Empty DataFrame\n",
      "Columns: [ID, UV, VJ]\n",
      "Index: []\n"
     ]
    },
    {
     "data": {
      "image/png": "[encoded data removed]",
      "text/plain": [
       "<Figure size 720x720 with 1 Axes>"
      ]
     },
     "metadata": {
      "needs_background": "light"
     },
     "output_type": "display_data"
    }
   ],
   "source": [
    "\n",
    "# Plot the UVJ diagram\n",
    "plt.figure(figsize=(10, 10))\n",
    "\n",
    "x = df['VJ']\n",
    "y = df['UV']\n",
    "id = df['ID']\n",
    "\n",
    "xmax = 2.5\n",
    "ymax = 2.5\n",
    "xmin = -0.5\n",
    "ymin = 0\n",
    "\n",
    "# Set the plotting limits\n",
    "plt.xlim(xmin, xmax)\n",
    "plt.ylim(ymin, ymax)\n",
    "\n",
    "# Define the points for a quiescent galaxy selection\n",
    "x_points = [-0.5, 0.85, 1.6, 1.6]\n",
    "y_points = [1.3, 1.3, 1.95, 2.5]\n",
    "\n",
    "# Plot the points\n",
    "plt.plot(x_points, y_points, linestyle='-')\n",
    "\n",
    "# Interpolate the y-value at x=1.2\n",
    "x_target = 1.2\n",
    "y_target = np.interp(x_target, x_points, y_points)\n",
    "\n",
    "# Plot the interpolated point, this separates everything on the right as dusty galaxies,\n",
    "# and everything on the left as star-forming galaxies\n",
    "plt.plot([x_target, x_target], [0, y_target], linestyle='--')\n",
    "\n",
    "quiescent_x = [-0.5, 0.85, 1.6, 1.6, xmin, xmin]\n",
    "quiescent_y = [1.3, 1.3, 1.95, 2.5, ymax, 1.3]\n",
    "# We want to make a wedge selection for the Quiescent Selection of Galaxies\n",
    "points = np.column_stack([x, y])\n",
    "verts = np.array([quiescent_x, quiescent_y]).T\n",
    "path = mpath.Path(verts)\n",
    "\n",
    "\n",
    "# Define the path for point selection\n",
    "#selected_path = mpath.Path([(2, 3), (6, 4), (8, 2), (2, 1), (2, 3)])  # Example path, replace with your own\n",
    "\n",
    "# Use path.contains_points to get a boolean array\n",
    "points_inside_selection = path.contains_points(np.column_stack([x, y]))\n",
    "\n",
    "\n",
    "\n",
    "dusty_condition = (points[:, 0] > x_target) & (~points_inside_selection)\n",
    "star_forming_condition = (points[:, 0] < x_target) & (~points_inside_selection)\n",
    "\n",
    "\n",
    "\n",
    "# Filter the DataFrame using the boolean array\n",
    "selected_df = df[points_inside_selection] # For quiescent, clean later\n",
    "\n",
    "# Mark dusty, and star-forming galaxies\n",
    "df.loc[dusty_condition, 'GalaxyType'] = 2\n",
    "df.loc[star_forming_condition, 'GalaxyType'] = 1\n",
    "\n",
    "\n",
    "\n",
    "\n",
    "print(selected_df)\n",
    "#print(unselected_df)\n",
    "\n",
    "# Now we can easily select the quiescent galaxies and set the galaxy type to quiescent - 0 or starforming 1.\n",
    "print(selected_df)\n",
    "selected_ids = selected_df['ID']\n",
    "df.loc[df['ID'].isin(selected_ids), 'GalaxyType'] = 0 # This is what makes the selection happen\n",
    "\n",
    "\n",
    "\n",
    "# Try do the same for the unselected galaxies, noting that the unselected galaxies with x and y > 1.2 are dusty galaxies, and the rest are star-forming galaxies\n",
    "#unselected_ids = unselected_df['id']\n",
    "\n",
    "\n",
    "\n",
    "\n",
    "# Sort the quiescent and non-quiescent galaxies\n",
    "quiescent_points = points[path.contains_points(points)]\n",
    "# Find the points from here to categorise dusty, and star-forming galaxies\n",
    "non_quiescent_points = points[~path.contains_points(points)]\n",
    "dusty_galaxies_points = non_quiescent_points[non_quiescent_points[:, 0] > x_target]\n",
    "star_forming_galaxies_points = non_quiescent_points[non_quiescent_points[:, 0] < x_target]\n",
    "\n",
    "\n",
    "#print(non_quiescent_points[0][0])\n",
    "\n",
    "#print(y)\n",
    "# Plot the selected points\n",
    "#plt.scatter(x, y, s=3, alpha=0.5, label='Not Quiescent Selection')\n",
    "plt.scatter(quiescent_points[:, 0], quiescent_points[:, 1], c='r', s=10, alpha=0.5, label='Quiescent Selection')\n",
    "plt.scatter(dusty_galaxies_points[:, 0], dusty_galaxies_points[:, 1], c='g', s=10, alpha=0.5, label='Dusty Galaxies')\n",
    "plt.scatter(star_forming_galaxies_points[:, 0], star_forming_galaxies_points[:, 1], c='b', s=10, alpha=0.5, label='Star Forming Galaxies')\n",
    "\n",
    "# Plot the names for the selected galaxies, in each reigon\n",
    "text = []\n",
    "for i in range(len(df)):\n",
    "   text.append(plt.text(df.iloc[i]['VJ'], df.iloc[i]['UV'], df.iloc[i]['ID']))\n",
    "adjust_text(text)\n",
    "\n",
    "\n",
    "\n",
    "plt.gca().add_patch(plt.Polygon(path_quiescent, closed=True, fill=True, facecolor=(1, 0, 0, 0.03), edgecolor='k', linewidth=2, linestyle='solid'))\n",
    "plt.gca().add_patch(plt.Polygon(path_sf, closed=True, fill=True, facecolor=(0, 0, 1, 0.03)))\n",
    "plt.gca().add_patch(plt.Polygon(path_sfd, closed=True, fill=True, facecolor=(1, 1, 0, 0.03)))\n",
    "\n",
    "\n",
    "plt.xlabel('Restframe V-J [Mag]')\n",
    "plt.ylabel('Restframe U-V [Mag]')\n",
    "plt.title('UVJ Diagram for the CDFS field')\n",
    "plt.legend()\n",
    "plt.show()\n"
   ]
  },
  {
   "cell_type": "code",
   "execution_count": null,
   "metadata": {},
   "outputs": [
    {
     "data": {
      "text/html": [
       "<div>\n",
       "<style scoped>\n",
       "    .dataframe tbody tr th:only-of-type {\n",
       "        vertical-align: middle;\n",
       "    }\n",
       "\n",
       "    .dataframe tbody tr th {\n",
       "        vertical-align: top;\n",
       "    }\n",
       "\n",
       "    .dataframe thead th {\n",
       "        text-align: right;\n",
       "    }\n",
       "</style>\n",
       "<table border=\"1\" class=\"dataframe\">\n",
       "  <thead>\n",
       "    <tr style=\"text-align: right;\">\n",
       "      <th></th>\n",
       "      <th>ID</th>\n",
       "      <th>UV</th>\n",
       "      <th>VJ</th>\n",
       "      <th>GalaxyType</th>\n",
       "    </tr>\n",
       "  </thead>\n",
       "  <tbody>\n",
       "    <tr>\n",
       "      <th>0</th>\n",
       "      <td>13592</td>\n",
       "      <td>1.720526</td>\n",
       "      <td>1.448883</td>\n",
       "      <td>2.0</td>\n",
       "    </tr>\n",
       "    <tr>\n",
       "      <th>1</th>\n",
       "      <td>15181</td>\n",
       "      <td>NaN</td>\n",
       "      <td>NaN</td>\n",
       "      <td>NaN</td>\n",
       "    </tr>\n",
       "    <tr>\n",
       "      <th>2</th>\n",
       "      <td>26789</td>\n",
       "      <td>NaN</td>\n",
       "      <td>NaN</td>\n",
       "      <td>NaN</td>\n",
       "    </tr>\n",
       "  </tbody>\n",
       "</table>\n",
       "</div>"
      ],
      "text/plain": [
       "      ID        UV        VJ  GalaxyType\n",
       "0  13592  1.720526  1.448883         2.0\n",
       "1  15181       NaN       NaN         NaN\n",
       "2  26789       NaN       NaN         NaN"
      ]
     },
     "execution_count": 540,
     "metadata": {},
     "output_type": "execute_result"
    }
   ],
   "source": [
    "df"
   ]
  },
  {
   "cell_type": "code",
   "execution_count": null,
   "metadata": {},
   "outputs": [],
   "source": [
    "# Finally export the dataframe to a csv, containing the recalculated UVJ positions and galaxy type\n",
    "def save_csv_with_numbered_name(df, save_path, file_name):\n",
    "    # Check if the file already exists\n",
    "    if os.path.isfile(os.path.join(save_path, f\"{file_name}.csv\")):\n",
    "        # Append a number until a unique file name is found\n",
    "        i = 1\n",
    "        while os.path.isfile(os.path.join(save_path, f\"{file_name}_{i}.csv\")):\n",
    "            i += 1\n",
    "        file_name = f\"{file_name}_{i}\"\n",
    "    \n",
    "    # Save the DataFrame to CSV with the updated file name\n",
    "    df.to_csv(os.path.join(save_path, f\"{file_name}.csv\"), index=False)\n",
    "    print(f\"CSV file saved as {file_name}.csv\")"
   ]
  },
  {
   "cell_type": "code",
   "execution_count": null,
   "metadata": {},
   "outputs": [
    {
     "name": "stdout",
     "output_type": "stream",
     "text": [
      "CSV file saved as RecalculatedUVJids_9.csv\n"
     ]
    }
   ],
   "source": [
    "save_csv_with_numbered_name(df, 'Eazy Template Extractions', 'RecalculatedUVJids')"
   ]
  },
  {
   "cell_type": "code",
   "execution_count": null,
   "metadata": {},
   "outputs": [],
   "source": []
  }
 ],
 "metadata": {
  "kernelspec": {
   "display_name": "base",
   "language": "python",
   "name": "python3"
  },
  "language_info": {
   "codemirror_mode": {
    "name": "ipython",
    "version": 3
   },
   "file_extension": ".py",
   "mimetype": "text/x-python",
   "name": "python",
   "nbconvert_exporter": "python",
   "pygments_lexer": "ipython3",
   "version": "3.8.8"
  }
 },
 "nbformat": 4,
 "nbformat_minor": 2
}
