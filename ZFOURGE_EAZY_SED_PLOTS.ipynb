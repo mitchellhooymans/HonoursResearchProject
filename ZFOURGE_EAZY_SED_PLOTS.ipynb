{
 "cells": [
  {
   "cell_type": "markdown",
   "metadata": {},
   "source": [
    "# EAZY SED Composite Evolution Code\n",
    "\n",
    "- This code is intended to pull galaxies selected from analysis to be used in the EAZY SED Composite Evolution Code.\n",
    "    -  we will pull the restframe SEDs of galaxies and do some of the following things.\n",
    "\n",
    "\n",
    "\n",
    "1. We will first have two seperate seds we choose to look for then read in:\n",
    "    - The ugr seds (the averages from each redshift range)\n",
    "    - the UVJ seds (the average sed from each galaxy region)\n",
    "\n",
    "2. We can then create the composite sets and output the plots of these galaxies"
   ]
  },
  {
   "cell_type": "code",
   "execution_count": 1,
   "metadata": {},
   "outputs": [],
   "source": [
    "import matplotlib.pyplot as plt\n",
    "import astropy.units as u\n",
    "import numpy as np\n",
    "import pandas as pd\n",
    "import os\n",
    "from astLib import astSED\n",
    "import astropy.io.fits as fits\n",
    "from carf import * # custom module for functions relating to the project\n",
    "import matplotlib.path as mpath\n",
    "import seaborn as sns\n",
    "from scipy.stats import gaussian_kde\n",
    "\n",
    "# So that we can change the helper functions without reloading the kernel\n",
    "%load_ext autoreload\n",
    "%autoreload 2"
   ]
  },
  {
   "cell_type": "code",
   "execution_count": 4,
   "metadata": {},
   "outputs": [],
   "source": [
    "# Readin the two dataframes\n",
    "uvj_seds = pd.read_csv('outputs\\ThesisPlots\\ZFOURGE_obsevational_composites_fluxesType1AGN_EAZY_UVJ_galaxies.csv')\n",
    "\n",
    "# Drop the unnamed column\n",
    "uvj_seds = uvj_seds.drop(columns='Unnamed: 0')"
   ]
  },
  {
   "cell_type": "code",
   "execution_count": 5,
   "metadata": {},
   "outputs": [
    {
     "data": {
      "text/html": [
       "<div>\n",
       "<style scoped>\n",
       "    .dataframe tbody tr th:only-of-type {\n",
       "        vertical-align: middle;\n",
       "    }\n",
       "\n",
       "    .dataframe tbody tr th {\n",
       "        vertical-align: top;\n",
       "    }\n",
       "\n",
       "    .dataframe thead th {\n",
       "        text-align: right;\n",
       "    }\n",
       "</style>\n",
       "<table border=\"1\" class=\"dataframe\">\n",
       "  <thead>\n",
       "    <tr style=\"text-align: right;\">\n",
       "      <th></th>\n",
       "      <th>id</th>\n",
       "      <th>z</th>\n",
       "      <th>population</th>\n",
       "    </tr>\n",
       "  </thead>\n",
       "  <tbody>\n",
       "    <tr>\n",
       "      <th>0</th>\n",
       "      <td>COSMOS_1341</td>\n",
       "      <td>1.2650</td>\n",
       "      <td>SF</td>\n",
       "    </tr>\n",
       "    <tr>\n",
       "      <th>1</th>\n",
       "      <td>CDFS_18026</td>\n",
       "      <td>0.7203</td>\n",
       "      <td>Quiescent</td>\n",
       "    </tr>\n",
       "    <tr>\n",
       "      <th>2</th>\n",
       "      <td>CDFS_18214</td>\n",
       "      <td>0.7346</td>\n",
       "      <td>Dusty</td>\n",
       "    </tr>\n",
       "  </tbody>\n",
       "</table>\n",
       "</div>"
      ],
      "text/plain": [
       "            id       z population\n",
       "0  COSMOS_1341  1.2650         SF\n",
       "1   CDFS_18026  0.7203  Quiescent\n",
       "2   CDFS_18214  0.7346      Dusty"
      ]
     },
     "execution_count": 5,
     "metadata": {},
     "output_type": "execute_result"
    }
   ],
   "source": [
    "uvj_seds"
   ]
  },
  {
   "cell_type": "code",
   "execution_count": 13,
   "metadata": {},
   "outputs": [],
   "source": [
    "# Read in the ugr data\n",
    "ugr_seds = pd.read_csv('outputs\\ThesisPlots\\ZFOURGE_obsevational_composites_fluxesType1AGN_EAZY_ugr_galaxies.csv')\n",
    "\n",
    "# Drop the unnamed column\n",
    "ugr_seds = ugr_seds.drop(columns='Unnamed: 0')"
   ]
  },
  {
   "cell_type": "code",
   "execution_count": 11,
   "metadata": {},
   "outputs": [
    {
     "data": {
      "text/html": [
       "<div>\n",
       "<style scoped>\n",
       "    .dataframe tbody tr th:only-of-type {\n",
       "        vertical-align: middle;\n",
       "    }\n",
       "\n",
       "    .dataframe tbody tr th {\n",
       "        vertical-align: top;\n",
       "    }\n",
       "\n",
       "    .dataframe thead th {\n",
       "        text-align: right;\n",
       "    }\n",
       "</style>\n",
       "<table border=\"1\" class=\"dataframe\">\n",
       "  <thead>\n",
       "    <tr style=\"text-align: right;\">\n",
       "      <th></th>\n",
       "      <th>ID</th>\n",
       "      <th>Redshift</th>\n",
       "      <th>Bin</th>\n",
       "    </tr>\n",
       "  </thead>\n",
       "  <tbody>\n",
       "    <tr>\n",
       "      <th>0</th>\n",
       "      <td>COSMOS_1698</td>\n",
       "      <td>1.2438</td>\n",
       "      <td>z &lt; 2.6</td>\n",
       "    </tr>\n",
       "    <tr>\n",
       "      <th>1</th>\n",
       "      <td>UDS_1597</td>\n",
       "      <td>2.9778</td>\n",
       "      <td>2.6 &lt; z &lt; 3.5</td>\n",
       "    </tr>\n",
       "    <tr>\n",
       "      <th>2</th>\n",
       "      <td>UDS_15263</td>\n",
       "      <td>3.7467</td>\n",
       "      <td>z &gt; 3.5</td>\n",
       "    </tr>\n",
       "  </tbody>\n",
       "</table>\n",
       "</div>"
      ],
      "text/plain": [
       "            ID  Redshift            Bin\n",
       "0  COSMOS_1698    1.2438        z < 2.6\n",
       "1     UDS_1597    2.9778  2.6 < z < 3.5\n",
       "2    UDS_15263    3.7467        z > 3.5"
      ]
     },
     "execution_count": 11,
     "metadata": {},
     "output_type": "execute_result"
    }
   ],
   "source": [
    "ugr_seds"
   ]
  },
  {
   "cell_type": "code",
   "execution_count": null,
   "metadata": {},
   "outputs": [],
   "source": []
  }
 ],
 "metadata": {
  "kernelspec": {
   "display_name": "base",
   "language": "python",
   "name": "python3"
  },
  "language_info": {
   "codemirror_mode": {
    "name": "ipython",
    "version": 3
   },
   "file_extension": ".py",
   "mimetype": "text/x-python",
   "name": "python",
   "nbconvert_exporter": "python",
   "pygments_lexer": "ipython3",
   "version": "3.11.3"
  }
 },
 "nbformat": 4,
 "nbformat_minor": 2
}
