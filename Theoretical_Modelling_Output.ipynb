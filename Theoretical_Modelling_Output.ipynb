{
 "cells": [
  {
   "cell_type": "markdown",
   "metadata": {},
   "source": [
    "# Theoretical Modelling of Composite Galaxies \n",
    "This code is intended to output a dataframe containing the colours of the theoretical galaxy+AGN composites.\n",
    "\n"
   ]
  },
  {
   "cell_type": "code",
   "execution_count": 13,
   "metadata": {},
   "outputs": [
    {
     "name": "stdout",
     "output_type": "stream",
     "text": [
      "The autoreload extension is already loaded. To reload it, use:\n",
      "  %reload_ext autoreload\n"
     ]
    }
   ],
   "source": [
    "# Read in an AGN template\n",
    "# Read in all required libraries\n",
    "# Import in all of the required libraries\n",
    "import matplotlib.pyplot as plt\n",
    "import astropy.units as u\n",
    "import numpy as np\n",
    "import pandas as pd\n",
    "import os\n",
    "from astLib import astSED\n",
    "import astropy.io.fits as fits\n",
    "import matplotlib.path as mpath\n",
    "from carf import * # custom module for functions relating to the project\n",
    "\n",
    "# So that we can change the helper functions without reloading the kernel\n",
    "%load_ext autoreload\n",
    "%autoreload 2"
   ]
  },
  {
   "cell_type": "code",
   "execution_count": 14,
   "metadata": {},
   "outputs": [],
   "source": [
    "# In addition also use astSED to create filters\n",
    "\n",
    "# Read in all filters\n",
    "# UVJ Filters\n",
    "pb_U_path = os.path.join('datasets', 'Filters', 'Generic_Johnson.U.dat')\n",
    "pb_V_path = os.path.join('datasets', 'Filters', 'Generic_Johnson.V.dat')\n",
    "pb_J_path = os.path.join('datasets', 'Filters', '2MASS_2MASS.J.dat')\n",
    "# Spitzer filters\n",
    "pb_f3_6_path = os.path.join('datasets', 'filters', 'Spitzer_IRAC.I1.dat')\n",
    "pb_f4_5_path = os.path.join('datasets', 'filters', 'Spitzer_IRAC.I2.dat')\n",
    "pb_f5_8_path = os.path.join('datasets', 'filters', 'Spitzer_IRAC.I3.dat')\n",
    "pb_f8_0_path = os.path.join('datasets', 'filters', 'Spitzer_IRAC.I4.dat')\n",
    "# ugr filters\n",
    "pb_u_path = os.path.join('datasets', 'filters', 'Paranal_OmegaCAM.u_SDSS.dat')\n",
    "pb_g_path = os.path.join('datasets', 'filters', 'Paranal_OmegaCAM.g_SDSS.dat')\n",
    "pb_r_path = os.path.join('datasets', 'filters', 'Paranal_OmegaCAM.r_SDSS.dat')\n",
    "\n",
    "\n",
    "# Load all of the filters \n",
    "pb_U = astSED.Passband(pb_U_path, normalise=False)\n",
    "pb_V = astSED.Passband(pb_V_path, normalise=False)\n",
    "pb_J = astSED.Passband(pb_J_path, normalise=False)\n",
    "pb_f3_6 = astSED.Passband(pb_f3_6_path, normalise=False)\n",
    "pb_f4_5 = astSED.Passband(pb_f4_5_path, normalise=False)\n",
    "pb_f5_8 = astSED.Passband(pb_f5_8_path, normalise=False)\n",
    "pb_f8_0 = astSED.Passband(pb_f8_0_path, normalise=False)\n",
    "pb_u = astSED.Passband(pb_u_path, normalise=False)\n",
    "pb_g = astSED.Passband(pb_g_path, normalise=False)\n",
    "pb_r = astSED.Passband(pb_r_path, normalise=False)\n",
    "\n",
    "filter_set = {'U': pb_U, 'V':pb_V, 'J':pb_J, 'IRAC3.6': pb_f3_6,'IRAC4.5': pb_f4_5,'IRAC5.8': pb_f5_8, 'IRAC8.0':pb_f8_0, 'u': pb_u, 'g': pb_g, 'r':pb_r}\n",
    "\n"
   ]
  },
  {
   "cell_type": "code",
   "execution_count": 15,
   "metadata": {},
   "outputs": [],
   "source": [
    "# Skirtor models\n",
    "skirtor_folderpath = os.path.join('datasets', 'Templates', 'Skirtor')\n",
    "\n",
    "# Swire templates\n",
    "swire_folderpath = os.path.join('datasets', 'Templates', 'SWIRE')\n",
    "\n",
    "# Brown templates\n",
    "brown_folderpath = os.path.join('datasets', 'Templates', 'Brown', '2014','Rest')\n"
   ]
  },
  {
   "cell_type": "code",
   "execution_count": 16,
   "metadata": {},
   "outputs": [],
   "source": [
    "# Read in the AGN templates\n",
    "type1_agn, type1_params = create_type1_skirtor_agn(skirtor_folderpath)\n",
    "type2_agn, type2_params = create_type2_skirtor_agn(skirtor_folderpath)\n",
    "\n",
    "# Read in the template set of choice\n",
    "swire_templates, template_names = read_swire_templates(swire_folderpath)\n",
    "\n",
    "# Read in the brown templates\n",
    "brown_templates, brown_template_names = read_brown_galaxy_templates(brown_folderpath)"
   ]
  },
  {
   "cell_type": "code",
   "execution_count": 17,
   "metadata": {},
   "outputs": [],
   "source": [
    "# Choose running parameters\n",
    "\n",
    "# Template set and AGN type\n",
    "template_set_name = 'SWIRE'\n",
    "agn_model_name = 'Type1AGN'\n",
    "\n",
    "# Setup how many alpha values we want to explore\n",
    "alpha_values = np.linspace(0, 1, 11)"
   ]
  },
  {
   "cell_type": "code",
   "execution_count": 18,
   "metadata": {},
   "outputs": [],
   "source": [
    "# Choose an AGN model\n",
    "if agn_model_name == 'Type1AGN':\n",
    "    agn_model = type1_agn\n",
    "elif agn_model_name == 'Type2AGN':\n",
    "    agn_model = type2_agn\n",
    "else:\n",
    "    print('AGN model not recognised')\n",
    "\n",
    "if template_set_name == 'SWIRE':\n",
    "    template_set = swire_templates\n",
    "    template_names = template_names\n",
    "elif template_set_name == 'Brown':\n",
    "    template_set = brown_templates\n",
    "    template_names = brown_template_names\n",
    "else:\n",
    "    print('Template set not recognised')"
   ]
  },
  {
   "cell_type": "code",
   "execution_count": null,
   "metadata": {},
   "outputs": [],
   "source": []
  },
  {
   "cell_type": "code",
   "execution_count": 19,
   "metadata": {},
   "outputs": [],
   "source": [
    "# Create all of the composites\n",
    "composites = generate_composite_set(agn_model, template_set, alpha_values)"
   ]
  },
  {
   "cell_type": "code",
   "execution_count": 20,
   "metadata": {},
   "outputs": [
    {
     "name": "stdout",
     "output_type": "stream",
     "text": [
      "U\n",
      "V\n",
      "J\n",
      "IRAC3.6\n",
      "IRAC4.5\n",
      "IRAC5.8\n",
      "IRAC8.0\n",
      "u\n",
      "g\n",
      "r\n"
     ]
    }
   ],
   "source": [
    "# # # Save all the sampled colours to a data frame\n",
    "\n",
    "# Create an empty data frame for each template that has the filters with the alpha values o.e u_0, u_10, u_20 etc for each filter\n",
    "column_names = ['id', 'z'] # add an inital column for the redshift and for the ID\n",
    "# filters \n",
    "for filter in filter_set.keys():\n",
    "    # Check filter we are looking at\n",
    "    print(filter)\n",
    "    \n",
    "    for alpha_val in alpha_values:\n",
    "    # Add filter into a data frame\n",
    "        column_names.append(filter + '_' + str(int(round(alpha_val, 2)*100)))\n",
    "\n",
    "# Turn into a dataframe  \n",
    "composite_fluxes = pd.DataFrame(columns=column_names)"
   ]
  },
  {
   "cell_type": "code",
   "execution_count": 21,
   "metadata": {},
   "outputs": [
    {
     "data": {
      "text/html": [
       "<div>\n",
       "<style scoped>\n",
       "    .dataframe tbody tr th:only-of-type {\n",
       "        vertical-align: middle;\n",
       "    }\n",
       "\n",
       "    .dataframe tbody tr th {\n",
       "        vertical-align: top;\n",
       "    }\n",
       "\n",
       "    .dataframe thead th {\n",
       "        text-align: right;\n",
       "    }\n",
       "</style>\n",
       "<table border=\"1\" class=\"dataframe\">\n",
       "  <thead>\n",
       "    <tr style=\"text-align: right;\">\n",
       "      <th></th>\n",
       "      <th>id</th>\n",
       "      <th>z</th>\n",
       "      <th>U_0</th>\n",
       "      <th>U_10</th>\n",
       "      <th>U_20</th>\n",
       "      <th>U_30</th>\n",
       "      <th>U_40</th>\n",
       "      <th>U_50</th>\n",
       "      <th>U_60</th>\n",
       "      <th>U_70</th>\n",
       "      <th>...</th>\n",
       "      <th>r_10</th>\n",
       "      <th>r_20</th>\n",
       "      <th>r_30</th>\n",
       "      <th>r_40</th>\n",
       "      <th>r_50</th>\n",
       "      <th>r_60</th>\n",
       "      <th>r_70</th>\n",
       "      <th>r_80</th>\n",
       "      <th>r_90</th>\n",
       "      <th>r_100</th>\n",
       "    </tr>\n",
       "  </thead>\n",
       "  <tbody>\n",
       "  </tbody>\n",
       "</table>\n",
       "<p>0 rows × 112 columns</p>\n",
       "</div>"
      ],
      "text/plain": [
       "Empty DataFrame\n",
       "Columns: [id, z, U_0, U_10, U_20, U_30, U_40, U_50, U_60, U_70, U_80, U_90, U_100, V_0, V_10, V_20, V_30, V_40, V_50, V_60, V_70, V_80, V_90, V_100, J_0, J_10, J_20, J_30, J_40, J_50, J_60, J_70, J_80, J_90, J_100, IRAC3.6_0, IRAC3.6_10, IRAC3.6_20, IRAC3.6_30, IRAC3.6_40, IRAC3.6_50, IRAC3.6_60, IRAC3.6_70, IRAC3.6_80, IRAC3.6_90, IRAC3.6_100, IRAC4.5_0, IRAC4.5_10, IRAC4.5_20, IRAC4.5_30, IRAC4.5_40, IRAC4.5_50, IRAC4.5_60, IRAC4.5_70, IRAC4.5_80, IRAC4.5_90, IRAC4.5_100, IRAC5.8_0, IRAC5.8_10, IRAC5.8_20, IRAC5.8_30, IRAC5.8_40, IRAC5.8_50, IRAC5.8_60, IRAC5.8_70, IRAC5.8_80, IRAC5.8_90, IRAC5.8_100, IRAC8.0_0, IRAC8.0_10, IRAC8.0_20, IRAC8.0_30, IRAC8.0_40, IRAC8.0_50, IRAC8.0_60, IRAC8.0_70, IRAC8.0_80, IRAC8.0_90, IRAC8.0_100, u_0, u_10, u_20, u_30, u_40, u_50, u_60, u_70, u_80, u_90, u_100, g_0, g_10, g_20, g_30, g_40, g_50, g_60, g_70, g_80, g_90, ...]\n",
       "Index: []\n",
       "\n",
       "[0 rows x 112 columns]"
      ]
     },
     "execution_count": 21,
     "metadata": {},
     "output_type": "execute_result"
    }
   ],
   "source": [
    "composite_fluxes"
   ]
  },
  {
   "cell_type": "code",
   "execution_count": 22,
   "metadata": {},
   "outputs": [
    {
     "name": "stderr",
     "output_type": "stream",
     "text": [
      "c:\\Users\\Mitchell\\Documents\\GitHub\\HonoursResearchProject\\astLib\\astSED.py:463: RuntimeWarning: invalid value encountered in double_scalars\n",
      "  totalFlux=totalFlux/numpy.trapz(passband.interpolator(sedWavelengthSlice)\\\n"
     ]
    }
   ],
   "source": [
    "# To make this work for the redshifts we are going to need to create a new dataframe for each redshift\n",
    "# This will be a list of dataframes\n",
    "\n",
    "# for each redshift create a new data frame\n",
    "redshifts = np.arange(0, 4, 0.1)\n",
    "\n",
    "# Create a list of dataframes for each redshift\n",
    "composite_fluxes_list = []\n",
    "\n",
    "\n",
    "for redshift in redshifts:    \n",
    "    # Create an empty data frame for each template that has the filters with the alpha values o.e u_0, u_10, u_20 etc for each filter\n",
    "    flux_df = composite_fluxes.copy()\n",
    "    \n",
    "    \n",
    "    for i in range(len(alpha_values)):\n",
    "        # This will be the set of composites for the specific alpha value\n",
    "        sed_alpha_data = composites[i]\n",
    "        \n",
    "        for j, sed_data in enumerate(sed_alpha_data):\n",
    "            # Create an SED object using astSED\n",
    "        \n",
    "            #print(sed_data['lambda (Angstroms)'])\n",
    "            wl = sed_data['lambda (Angstroms)']\n",
    "            fl = sed_data['Total Flux (erg/s/cm^2/Angstrom)']\n",
    "            \n",
    "            # Create an SED object\n",
    "            sed = astSED.SED(wavelength=wl, flux=fl, z=0.0)\n",
    "            \n",
    "            # Redshift the SED\n",
    "            sed.redshift(redshift)\n",
    "            \n",
    "            # Add template name to the data frame in the id column\n",
    "            flux_df.loc[j, 'id'] = template_names[j]\n",
    "            \n",
    "            # Only turn this on to output all seds\n",
    "            # Only necessary to output the CSV for the rest frame\n",
    "            \n",
    "            if redshift == 0:\n",
    "                sed_data.to_csv(f'outputs/composite_seds/{template_set_name}/'+template_names[j]+ f'{agn_model_name}'+ 'composite_' +str(int(round(alpha_values[i], 2)*100))+'.csv')\n",
    "            \n",
    "            # Calculate each filter value for the specific alpha value\n",
    "            for filter in filter_set.keys():\n",
    "                # Calculate the magnitude for the filter\n",
    "                \n",
    "                if filter == 'IRAC3.6' or filter == 'IRAC4.5' or filter == 'IRAC5.8' or filter == 'IRAC8.0':\n",
    "                    # Calculate the magnitude for the IRAC filters\n",
    "                    obs_flux = astSED.SED.calcFlux(sed, filter_set[filter])  \n",
    "                    # Add the magnitude to the data frame\n",
    "                    flux_df.loc[j, filter + '_' + str(int(round(alpha_values[i], 2)*100))] = obs_flux\n",
    "                    \n",
    "                else:\n",
    "                    # Calculate the magnitude for the other filters\n",
    "                    mag = astSED.SED.calcMag(sed, filter_set[filter], magType='AB')\n",
    "\n",
    "                    # Add the magnitude to the data frame\n",
    "                    flux_df.loc[j, filter + '_' + str(int(round(alpha_values[i], 2)*100))] = mag\n",
    "                \n",
    "    # Add the redshift to the data frame\n",
    "    flux_df['z'] = redshift\n",
    "    composite_fluxes_list.append(flux_df)\n",
    "\n",
    "            \n",
    "            \n",
    "            "
   ]
  },
  {
   "cell_type": "code",
   "execution_count": 23,
   "metadata": {},
   "outputs": [],
   "source": [
    "# We now want to join each of the data frames together\n",
    "composite_fluxes = pd.concat(composite_fluxes_list)"
   ]
  },
  {
   "cell_type": "code",
   "execution_count": 24,
   "metadata": {},
   "outputs": [],
   "source": [
    "\n",
    "# Output as required\n",
    "composite_choice = f'{template_set_name}_theoretical_composite_fluxes_{agn_model_name}'\n",
    "composite_fluxes.to_csv(f'outputs\\composite_seds\\{composite_choice}.csv')   \n",
    "\n"
   ]
  },
  {
   "cell_type": "code",
   "execution_count": null,
   "metadata": {},
   "outputs": [],
   "source": []
  }
 ],
 "metadata": {
  "kernelspec": {
   "display_name": "base",
   "language": "python",
   "name": "python3"
  },
  "language_info": {
   "codemirror_mode": {
    "name": "ipython",
    "version": 3
   },
   "file_extension": ".py",
   "mimetype": "text/x-python",
   "name": "python",
   "nbconvert_exporter": "python",
   "pygments_lexer": "ipython3",
   "version": "3.8.8"
  }
 },
 "nbformat": 4,
 "nbformat_minor": 2
}
