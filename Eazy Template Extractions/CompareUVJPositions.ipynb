{
 "cells": [
  {
   "cell_type": "markdown",
   "metadata": {},
   "source": [
    "# Compare the UVJ from the selection, vs the UVJ recalculated with the filters and astSED"
   ]
  },
  {
   "cell_type": "code",
   "execution_count": 34,
   "metadata": {},
   "outputs": [
    {
     "name": "stdout",
     "output_type": "stream",
     "text": [
      "The autoreload extension is already loaded. To reload it, use:\n",
      "  %reload_ext autoreload\n"
     ]
    }
   ],
   "source": [
    "import matplotlib.pyplot as plt\n",
    "import astropy.units as u\n",
    "import numpy as np\n",
    "import pandas as pd\n",
    "import os\n",
    "import sys\n",
    "sys.path.append('../')\n",
    "from astLib import astSED\n",
    "import astropy.io.fits as fits\n",
    "from carf import * # custom module for functions relating to the project\n",
    "import matplotlib.path as mpath\n",
    "\n",
    "\n",
    "# So that we can change the helper functions without reloading the kernel\n",
    "%load_ext autoreload\n",
    "%autoreload 2"
   ]
  },
  {
   "cell_type": "code",
   "execution_count": 35,
   "metadata": {},
   "outputs": [],
   "source": [
    "# All we are doing in this script is reading in 2 dataframes, and plotting the uv, and vj coordinates\n",
    "# of the sources in the dataframes. We are also plotting the SED of the sources in the dataframes.\n",
    "# read in the first \n",
    "# read in the first dataframe\n",
    "selected_ids_df = pd.read_csv('selected_uvj_data_ids.csv')\n",
    "recalculated_df = pd.read_csv('RecalculatedUVJids.csv')"
   ]
  },
  {
   "cell_type": "code",
   "execution_count": 36,
   "metadata": {},
   "outputs": [
    {
     "data": {
      "text/html": [
       "<div>\n",
       "<style scoped>\n",
       "    .dataframe tbody tr th:only-of-type {\n",
       "        vertical-align: middle;\n",
       "    }\n",
       "\n",
       "    .dataframe tbody tr th {\n",
       "        vertical-align: top;\n",
       "    }\n",
       "\n",
       "    .dataframe thead th {\n",
       "        text-align: right;\n",
       "    }\n",
       "</style>\n",
       "<table border=\"1\" class=\"dataframe\">\n",
       "  <thead>\n",
       "    <tr style=\"text-align: right;\">\n",
       "      <th></th>\n",
       "      <th>id</th>\n",
       "      <th>zpk</th>\n",
       "      <th>uv</th>\n",
       "      <th>vj</th>\n",
       "    </tr>\n",
       "  </thead>\n",
       "  <tbody>\n",
       "    <tr>\n",
       "      <th>0</th>\n",
       "      <td>13592</td>\n",
       "      <td>1.0709</td>\n",
       "      <td>1.662785</td>\n",
       "      <td>1.257499</td>\n",
       "    </tr>\n",
       "    <tr>\n",
       "      <th>1</th>\n",
       "      <td>15181</td>\n",
       "      <td>1.9892</td>\n",
       "      <td>1.032396</td>\n",
       "      <td>1.423367</td>\n",
       "    </tr>\n",
       "    <tr>\n",
       "      <th>2</th>\n",
       "      <td>26789</td>\n",
       "      <td>0.5144</td>\n",
       "      <td>0.778041</td>\n",
       "      <td>0.367601</td>\n",
       "    </tr>\n",
       "  </tbody>\n",
       "</table>\n",
       "</div>"
      ],
      "text/plain": [
       "      id     zpk        uv        vj\n",
       "0  13592  1.0709  1.662785  1.257499\n",
       "1  15181  1.9892  1.032396  1.423367\n",
       "2  26789  0.5144  0.778041  0.367601"
      ]
     },
     "execution_count": 36,
     "metadata": {},
     "output_type": "execute_result"
    }
   ],
   "source": [
    "selected_ids_df"
   ]
  },
  {
   "cell_type": "code",
   "execution_count": 37,
   "metadata": {},
   "outputs": [
    {
     "data": {
      "text/html": [
       "<div>\n",
       "<style scoped>\n",
       "    .dataframe tbody tr th:only-of-type {\n",
       "        vertical-align: middle;\n",
       "    }\n",
       "\n",
       "    .dataframe tbody tr th {\n",
       "        vertical-align: top;\n",
       "    }\n",
       "\n",
       "    .dataframe thead th {\n",
       "        text-align: right;\n",
       "    }\n",
       "</style>\n",
       "<table border=\"1\" class=\"dataframe\">\n",
       "  <thead>\n",
       "    <tr style=\"text-align: right;\">\n",
       "      <th></th>\n",
       "      <th>ID</th>\n",
       "      <th>UV</th>\n",
       "      <th>VJ</th>\n",
       "      <th>GalaxyType</th>\n",
       "    </tr>\n",
       "  </thead>\n",
       "  <tbody>\n",
       "    <tr>\n",
       "      <th>0</th>\n",
       "      <td>13592</td>\n",
       "      <td>1.720491</td>\n",
       "      <td>1.448844</td>\n",
       "      <td>2.0</td>\n",
       "    </tr>\n",
       "    <tr>\n",
       "      <th>1</th>\n",
       "      <td>15181</td>\n",
       "      <td>1.246362</td>\n",
       "      <td>1.383655</td>\n",
       "      <td>2.0</td>\n",
       "    </tr>\n",
       "    <tr>\n",
       "      <th>2</th>\n",
       "      <td>26789</td>\n",
       "      <td>0.835647</td>\n",
       "      <td>0.427972</td>\n",
       "      <td>1.0</td>\n",
       "    </tr>\n",
       "  </tbody>\n",
       "</table>\n",
       "</div>"
      ],
      "text/plain": [
       "      ID        UV        VJ  GalaxyType\n",
       "0  13592  1.720491  1.448844         2.0\n",
       "1  15181  1.246362  1.383655         2.0\n",
       "2  26789  0.835647  0.427972         1.0"
      ]
     },
     "execution_count": 37,
     "metadata": {},
     "output_type": "execute_result"
    }
   ],
   "source": [
    "recalculated_df"
   ]
  },
  {
   "cell_type": "code",
   "execution_count": 42,
   "metadata": {},
   "outputs": [
    {
     "data": {
      "image/png": "[encoded data removed]",
      "text/plain": [
       "<Figure size 720x720 with 1 Axes>"
      ]
     },
     "metadata": {
      "needs_background": "light"
     },
     "output_type": "display_data"
    }
   ],
   "source": [
    "# Plot the UVJ diagram\n",
    "plt.figure(figsize=(10, 10))\n",
    "plt.scatter(selected_ids_df['vj'], selected_ids_df['uv'], c='r', label='True UVJ Colours')\n",
    "plt.scatter(recalculated_df['VJ'], recalculated_df['UV'], c='b', label='Recalculated UVJ Colours')\n",
    "# Plot an arrow to show the direction the UVJ point has moved from the selected id at index 1, to the recalculated at index 1, etc\n",
    "b =0.75\n",
    "a = b\n",
    "for i in range(len(selected_ids_df)):\n",
    "    # Making sure the arrow tip is at the position of the new UVJ point, not covering it\n",
    "    #plt.arrow(selected_ids_df['vj'][i], selected_ids_df['uv'][i], recalculated_df['VJ'][i] - selected_ids_df['vj'][i], recalculated_df['UV'][i] - selected_ids_df['uv'][i], head_width=0.05, head_length=0.09, fc='k', ec='k')\n",
    "    # Mark an arrow from the red dot to the blue dot, but make sure the arrow head is not covering the blue dot\n",
    "    #plt.arrow(selected_ids_df['vj'][i], selected_ids_df['uv'][i], recalculated_df['VJ'][i] - selected_ids_df['vj'][i], recalculated_df['UV'][i] - selected_ids_df['uv'][i], head_width=0.05, head_length=0.09, fc='k', ec='k')\n",
    "    plt.arrow(selected_ids_df['vj'][i], selected_ids_df['uv'][i], (recalculated_df['VJ'][i] - selected_ids_df['vj'][i])*a, (recalculated_df['UV'][i] - selected_ids_df['uv'][i])*b, head_width=0.03, head_length=0.03, fc='k', ec='k')\n",
    "plt.ylabel('U - V')\n",
    "plt.xlabel('V - J')\n",
    "plt.title(\"Restframe UVJ Colours of AGN Composites\")\n",
    "plt.xlim([-0.5, 2.2])\n",
    "plt.ylim([0, 2.5])\n",
    "\n",
    "# Plot the names\n",
    "for i in range(len(selected_ids_df)):\n",
    "    #plt.text(selected_ids_df['vj'][i], selected_ids_df['uv'][i], selected_ids_df['id'][i], fontsize=12)\n",
    "    plt.text(recalculated_df['VJ'][i], recalculated_df['UV'][i], recalculated_df['ID'][i], fontsize=12)\n",
    "\n",
    "# Define paths for selections\n",
    "path_quiescent = [[-0.5, 1.3], [0.85, 1.3], [1.6, 1.95], [1.6, 2.5], [-0.5, 2.5]]\n",
    "path_sf = [[-0.5, 0.0], [-0.5, 1.3], [0.85, 1.3], [1.2, 1.60333], [1.2, 0.0]]\n",
    "path_sfd = [[1.2, 0.0], [1.2, 1.60333], [1.6, 1.95], [1.6, 2.5], [2.2, 2.5], [2.2, 0.0]]\n",
    "\n",
    "# Add patches for selections\n",
    "plt.gca().add_patch(plt.Polygon(path_quiescent, closed=True, fill=True, facecolor=(1, 0, 0, 0.03), edgecolor='k', linewidth=2, linestyle='solid'))\n",
    "plt.gca().add_patch(plt.Polygon(path_sf, closed=True, fill=True, facecolor=(0, 0, 1, 0.03)))\n",
    "plt.gca().add_patch(plt.Polygon(path_sfd, closed=True, fill=True, facecolor=(1, 1, 0, 0.03)))\n",
    "\n",
    "# Add vertical line\n",
    "plt.axvline(1.2, color='black', linestyle='--', ymin=0, ymax=1.60333/2.5)\n",
    "plt.legend()\n",
    "plt.show()"
   ]
  },
  {
   "cell_type": "code",
   "execution_count": null,
   "metadata": {},
   "outputs": [],
   "source": []
  }
 ],
 "metadata": {
  "kernelspec": {
   "display_name": "base",
   "language": "python",
   "name": "python3"
  },
  "language_info": {
   "codemirror_mode": {
    "name": "ipython",
    "version": 3
   },
   "file_extension": ".py",
   "mimetype": "text/x-python",
   "name": "python",
   "nbconvert_exporter": "python",
   "pygments_lexer": "ipython3",
   "version": "3.8.8"
  }
 },
 "nbformat": 4,
 "nbformat_minor": 2
}
